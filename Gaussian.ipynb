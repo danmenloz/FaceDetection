{
 "metadata": {
  "language_info": {
   "codemirror_mode": {
    "name": "ipython",
    "version": 3
   },
   "file_extension": ".py",
   "mimetype": "text/x-python",
   "name": "python",
   "nbconvert_exporter": "python",
   "pygments_lexer": "ipython3",
   "version": "3.8.5-final"
  },
  "orig_nbformat": 2,
  "kernelspec": {
   "name": "python3",
   "display_name": "Python 3.8.5 64-bit ('ECE763': conda)",
   "metadata": {
    "interpreter": {
     "hash": "c0164b6fc447729148a9dbbb776f9cf8796208f9f8eb26f117ee183b2f428654"
    }
   }
  }
 },
 "nbformat": 4,
 "nbformat_minor": 2,
 "cells": [
  {
   "source": [
    "# ECE 763 Project 01: Face Detection\n",
    "## faceScrub dataset"
   ],
   "cell_type": "markdown",
   "metadata": {}
  },
  {
   "cell_type": "code",
   "execution_count": 1,
   "metadata": {},
   "outputs": [],
   "source": [
    "%matplotlib inline \n",
    "import csv\n",
    "import numpy as np\n",
    "import matplotlib.pyplot as plt\n",
    "from PIL import Image\n",
    "from tqdm import tqdm"
   ]
  },
  {
   "source": [
    "### Methods"
   ],
   "cell_type": "markdown",
   "metadata": {}
  },
  {
   "cell_type": "code",
   "execution_count": 2,
   "metadata": {},
   "outputs": [],
   "source": [
    "def buildDataset(actors_list):\n",
    "  img_set = [] # empty list\n",
    "  for actor in tqdm(actors_list, total=len(actors_list) ,desc='Loading dataset'):\n",
    "    img0 = {} # empty dictionary\n",
    "    img1 = {} # empty dictionary\n",
    "    try:\n",
    "      # create dictionary and add it to the list\n",
    "      img0['file'] = actor['0']\n",
    "      img0['class'] = 0\n",
    "      img0['image'] = Image.open(actor['0'])\n",
    "      img_set.append(img0)\n",
    "      img1['file'] = actor['1']\n",
    "      img1['class'] = 1\n",
    "      img1['image'] = Image.open(actor['1'])\n",
    "      img_set.append(img1)\n",
    "    except:\n",
    "      print(actor['name'] + \" couldn't be found!\")\n",
    "  return img_set"
   ]
  },
  {
   "source": [
    "Load datasets into memmory"
   ],
   "cell_type": "markdown",
   "metadata": {}
  },
  {
   "cell_type": "code",
   "execution_count": 3,
   "metadata": {},
   "outputs": [
    {
     "output_type": "stream",
     "name": "stderr",
     "text": [
      "Loading dataset: 100%|██████████| 100/100 [00:00<00:00, 2345.99it/s]\n",
      "Loading dataset: 100%|██████████| 1000/1000 [00:00<00:00, 3043.85it/s]\n"
     ]
    }
   ],
   "source": [
    "test_actors = []\n",
    "train_actors = []\n",
    "\n",
    "test_file = './data/test/test.txt'\n",
    "train_file = './data/training/training.txt'\n",
    "\n",
    "# Read test data\n",
    "with open(test_file, newline='') as actors:\n",
    "    actors_reader = csv.DictReader(actors, delimiter='\\t')\n",
    "    for actor in actors_reader:\n",
    "        test_actors.append(actor)\n",
    "\n",
    "# Read training data\n",
    "with open(train_file, newline='') as actors:\n",
    "    actors_reader = csv.DictReader(actors, delimiter='\\t')\n",
    "    for actor in actors_reader:\n",
    "        train_actors.append(actor)\n",
    "\n",
    "# Build datasets\n",
    "test_set = buildDataset(test_actors)\n",
    "train_set = buildDataset(train_actors)"
   ]
  },
  {
   "source": [
    "Concatenate RGB values and normalize data"
   ],
   "cell_type": "markdown",
   "metadata": {}
  },
  {
   "cell_type": "code",
   "execution_count": 4,
   "metadata": {},
   "outputs": [
    {
     "output_type": "stream",
     "name": "stdout",
     "text": [
      "Sample from test set: \n[0.4        0.42745098 0.63137255 ... 0.24313725 0.28235294 0.41960784]\nshape:  (1200,)\nSample from training set: \n[0.41568627 0.21960784 0.17647059 ... 0.4        0.25098039 0.2       ]\nshape:  (1200,)\n"
     ]
    }
   ],
   "source": [
    "# Convert images to np array\n",
    "for face in test_set:\n",
    "    face['image'] = np.asfarray(face['image']).flatten() / 255.0\n",
    "for face in train_set:\n",
    "    face['image'] = np.asfarray(face['image']).flatten() / 255.0\n",
    "\n",
    "# Inspect data\n",
    "print('Sample from test set: ')\n",
    "print(test_set[0]['image'])\n",
    "print('shape: ' , test_set[0]['image'].shape)\n",
    "print('Sample from training set: ')\n",
    "print(train_set[0]['image'])\n",
    "print('shape: ' , test_set[0]['image'].shape)"
   ]
  },
  {
   "source": [
    "Crete training class subsets and X matrix"
   ],
   "cell_type": "markdown",
   "metadata": {}
  },
  {
   "cell_type": "code",
   "execution_count": 5,
   "metadata": {},
   "outputs": [
    {
     "output_type": "stream",
     "name": "stdout",
     "text": [
      "X0 shape:  (1200, 1000)\nX1 shape:  (1200, 1000)\n"
     ]
    }
   ],
   "source": [
    "# Create vectors of training data\n",
    "X0_subset = [ face for face in train_set if face['class']==0 ]\n",
    "X1_subset = [ face for face in train_set if face['class']==1 ]\n",
    "x_len = train_set[0]['image'].shape[0]\n",
    "\n",
    "X0 = np.empty( (x_len,len(X0_subset)) )\n",
    "X1 = np.empty( (x_len,len(X1_subset)) )\n",
    "\n",
    "for i,face in enumerate(X0_subset):\n",
    "    try:\n",
    "        X0[:,i] = face['image']\n",
    "    except:\n",
    "        print(i, face['image'].shape, face['file'])\n",
    "\n",
    "for i,face in enumerate(X1_subset):\n",
    "    X1[:,i] = face['image']\n",
    "\n",
    "# Sanity check\n",
    "print('X0 shape: ' , X0.shape)\n",
    "print('X1 shape: ' , X1.shape)"
   ]
  },
  {
   "source": [
    "Compute sample mean vector and sample covariance matrix"
   ],
   "cell_type": "markdown",
   "metadata": {}
  },
  {
   "cell_type": "code",
   "execution_count": 6,
   "metadata": {},
   "outputs": [
    {
     "output_type": "stream",
     "name": "stdout",
     "text": [
      "X0 mean =  [0.43417255 0.38098431 0.35311373 ... 0.42512549 0.37319216 0.34605882]\nX1 mean =  [0.35471373 0.28687451 0.24862745 ... 0.4491451  0.39176471 0.36153725]\nX0 cov  =  [[0.10208597 0.08866525 0.081672   ... 0.07341677 0.06261226 0.05826928]\n [0.08866525 0.08856834 0.08510363 ... 0.06230632 0.06152965 0.06014155]\n [0.081672   0.08510363 0.08769996 ... 0.05818184 0.06061282 0.06360285]\n ...\n [0.07341677 0.06230632 0.05818184 ... 0.10229809 0.08837205 0.08112465]\n [0.06261226 0.06152965 0.06061282 ... 0.08837205 0.08649979 0.08331823]\n [0.05826928 0.06014155 0.06360285 ... 0.08112465 0.08331823 0.08616601]]\nX1 cov  =  [[0.06755294 0.05953922 0.05489733 ... 0.01027572 0.00766113 0.00684062]\n [0.05953922 0.06169248 0.05886031 ... 0.00780127 0.00592142 0.00526898]\n [0.05489733 0.05886031 0.06020254 ... 0.00702101 0.00501865 0.00480326]\n ...\n [0.01027572 0.00780127 0.00702101 ... 0.09499548 0.08696977 0.08100147]\n [0.00766113 0.00592142 0.00501865 ... 0.08696977 0.08762541 0.08480419]\n [0.00684062 0.00526898 0.00480326 ... 0.08100147 0.08480419 0.08671743]]\n"
     ]
    }
   ],
   "source": [
    "# Mean\n",
    "mu0 = X0.mean(axis=1)\n",
    "mu1 = X1.mean(axis=1)\n",
    "\n",
    "# Variance\n",
    "sigma0 = np.cov(X0, bias=True)\n",
    "sigma1 = np.cov(X1, bias=True)\n",
    "\n",
    "print('X0 mean = ', mu0)\n",
    "print('X1 mean = ', mu1)\n",
    "print('X0 cov  = ', sigma0)\n",
    "print('X1 cov  = ', sigma1)"
   ]
  },
  {
   "source": [
    "Visualize the estimated mean and covariance matrix for face and non-face respectively"
   ],
   "cell_type": "markdown",
   "metadata": {}
  },
  {
   "cell_type": "code",
   "execution_count": 39,
   "metadata": {},
   "outputs": [
    {
     "output_type": "execute_result",
     "data": {
      "text/plain": [
       "Text(0.5, 1.0, '$\\\\Sigma_1^{diag}$')"
      ]
     },
     "metadata": {},
     "execution_count": 39
    },
    {
     "output_type": "display_data",
     "data": {
      "text/plain": "<Figure size 576x576 with 4 Axes>",
      "image/svg+xml": "<?xml version=\"1.0\" encoding=\"utf-8\" standalone=\"no\"?>\n<!DOCTYPE svg PUBLIC \"-//W3C//DTD SVG 1.1//EN\"\n  \"http://www.w3.org/Graphics/SVG/1.1/DTD/svg11.dtd\">\n<!-- Created with matplotlib (https://matplotlib.org/) -->\n<svg height=\"464.37375pt\" version=\"1.1\" viewBox=\"0 0 455.563636 464.37375\" width=\"455.563636pt\" xmlns=\"http://www.w3.org/2000/svg\" xmlns:xlink=\"http://www.w3.org/1999/xlink\">\n <metadata>\n  <rdf:RDF xmlns:cc=\"http://creativecommons.org/ns#\" xmlns:dc=\"http://purl.org/dc/elements/1.1/\" xmlns:rdf=\"http://www.w3.org/1999/02/22-rdf-syntax-ns#\">\n   <cc:Work>\n    <dc:type rdf:resource=\"http://purl.org/dc/dcmitype/StillImage\"/>\n    <dc:date>2021-02-25T15:28:17.598068</dc:date>\n    <dc:format>image/svg+xml</dc:format>\n    <dc:creator>\n     <cc:Agent>\n      <dc:title>Matplotlib v3.3.2, https://matplotlib.org/</dc:title>\n     </cc:Agent>\n    </dc:creator>\n   </cc:Work>\n  </rdf:RDF>\n </metadata>\n <defs>\n  <style type=\"text/css\">*{stroke-linecap:butt;stroke-linejoin:round;}</style>\n </defs>\n <g id=\"figure_1\">\n  <g id=\"patch_1\">\n   <path d=\"M 0 464.37375 \nL 455.563636 464.37375 \nL 455.563636 -0 \nL 0 -0 \nz\n\" style=\"fill:none;\"/>\n  </g>\n  <g id=\"axes_1\">\n   <g clip-path=\"url(#p5b418cbcef)\">\n    <image height=\"198\" id=\"imagecceb7b78d6\" transform=\"scale(1 -1)translate(0 -198)\" width=\"198\" x=\"7.2\" xlink:href=\"data:image/png;base64,\niVBORw0KGgoAAAANSUhEUgAAAMYAAADGCAYAAACJm/9dAAAENUlEQVR4nO3dMa7cNhRA0SjQHt15Bd5/qxQpfQG/QV5C5fucekBJo7lgwaF0/fj+7fnjxSYnd41Hm39y1+wrvq7h+U0/9xy4tcNze4bnNv3c+M4Oz+/P6XjwOxEGBGFAEAYEYUAQBgRhQBAGBGFAuMeLo9NF2eFwm2uy80t49SL//OyWV7Q379l16Cse/waG350ZA4IwIAgDgjAgCAOCMCAIA4IwIAgDwj1eM3yGe3lPbaseWF7k3z/uqb8hrPoa/y4wY0AQBgRhQBAGBGFAEAYEYUAQBgRhQLjnH91dIR8bDLe/wHti5/r7bX7P06eYn2LGgCAMCMKAIAwIwoAgDAjCgCAMCMKAcI93GU/fLX3AfKf07BrGr9GergWP32k9G+6aPlJ8eZ/+5i9g+78F279PMwYEYUAQBgRhQBAGBGFAEAYEYUAQBoR7f8f0gf3S88eJz4bb3o58bHvz7tPTT1zGqV+nGQOCMCAIA4IwIAgDgjAgCAOCMCB88FDnqQPLQOOtqKvD7V/poesYm6x8jreYvvmVzGYMSMKAIAwIwoAgDAjCgCAMCMKAIAwI85XvY8ut7zW+1OUV7Vcb7ws+s8w/Hc6MAUEYEIQBQRgQhAFBGBCEAUEYEIQBYX/P94tXyNcPOX/v8Wy47S9v/YnIv8/fGswYEIQBQRgQhAFBGBCEAUEYEIQBQRgQ7lOLmdfLn3a9antz+LLNe/Fs7/mejrb8iHozBgRhQBAGBGFAEAYEYUAQBgRhQBAGhH/hPd/85MX74D857nhR+82G12rGgCAMCMKAIAwIwoAgDAjCgCAMCMKAcGzl+xkuB1/PYKlyefv4+gLvy/etz1e0f/3B6VjXtfstz487uxlmDAjCgCAMCMKAIAwIwoAgDAjCgCAMCPfB9eCZycL38iPbr+XNzV9hq/Tffv09T1e017fBL/8GzBgQhAFBGBCEAUEYEIQBQRgQhAFBGBDm7/me7L3+xOZw4/2+w/GGHxyv3i7uqf7kuPv2jry9DX57PDMGBGFAEAYEYUAQBgRhQBAGBGFAEAaED552fuZl1Ztr0M+Rc/s/7Pl+/xn+18wYEIQBQRgQhAFBGBCEAUEYEIQBQRgQ9t/zfeCd2+uv0Z6/NHo64OKnKM/wnnnPN/wDwoAgDAjCgCAMCMKAIAwIwoBwn3pd7PiwB8Z6Dl3rKV9hi+72LTNjQBAGBGFAEAYEYUAQBgRhQBAGBGFA+GBr6/Ke1d2jvvqY0+2U0y21p1agJ1ex/ujv8c9u966ZMSAIA4IwIAgDgjAgCAOCMCAIA4IwINzjVdltm8cdP4R5Ot7wc8sr2scsPpx6fFfHX8mZf1yYMSAIA4IwIAgDgjAgCAOCMCAIA4IwINynVm+PPGH75QvQ03txHdsbvrjr+8yC9vj0zBgQhAFBGBCEAUEYEIQBQRgQhAFBGBD+AuSujvpfSRthAAAAAElFTkSuQmCC\" y=\"-21.966477\"/>\n   </g>\n   <g id=\"text_1\">\n    <!-- $\\mu_0$ -->\n    <g transform=\"translate(99.376364 16.29375)scale(0.12 -0.12)\">\n     <defs>\n      <path d=\"M -1.3125 -20.796875 \nL 13.375 54.6875 \nL 22.40625 54.6875 \nL 15.765625 20.65625 \nQ 15.578125 19.625 15.421875 18.359375 \nQ 15.28125 17.09375 15.28125 15.828125 \nQ 15.28125 11.28125 18.140625 8.828125 \nQ 21 6.390625 26.3125 6.390625 \nQ 33.546875 6.390625 37.984375 10.484375 \nQ 42.4375 14.59375 44 22.796875 \nL 50.203125 54.6875 \nL 59.1875 54.6875 \nL 51.03125 12.640625 \nQ 50.828125 11.71875 50.75 11.03125 \nQ 50.6875 10.359375 50.6875 9.8125 \nQ 50.6875 8.296875 51.296875 7.59375 \nQ 51.90625 6.890625 53.21875 6.890625 \nQ 53.71875 6.890625 54.5625 7.125 \nQ 55.421875 7.375 56.984375 8.015625 \nL 55.609375 0.78125 \nQ 53.46875 -0.296875 51.515625 -0.859375 \nQ 49.5625 -1.421875 47.703125 -1.421875 \nQ 44.484375 -1.421875 42.65625 0.625 \nQ 40.828125 2.6875 40.828125 6.296875 \nQ 38.09375 2.390625 34.296875 0.484375 \nQ 30.515625 -1.421875 25.390625 -1.421875 \nQ 20.84375 -1.421875 17.453125 0.671875 \nQ 14.0625 2.78125 12.984375 6.203125 \nL 7.71875 -20.796875 \nz\n\" id=\"DejaVuSans-Oblique-956\"/>\n      <path d=\"M 31.78125 66.40625 \nQ 24.171875 66.40625 20.328125 58.90625 \nQ 16.5 51.421875 16.5 36.375 \nQ 16.5 21.390625 20.328125 13.890625 \nQ 24.171875 6.390625 31.78125 6.390625 \nQ 39.453125 6.390625 43.28125 13.890625 \nQ 47.125 21.390625 47.125 36.375 \nQ 47.125 51.421875 43.28125 58.90625 \nQ 39.453125 66.40625 31.78125 66.40625 \nz\nM 31.78125 74.21875 \nQ 44.046875 74.21875 50.515625 64.515625 \nQ 56.984375 54.828125 56.984375 36.375 \nQ 56.984375 17.96875 50.515625 8.265625 \nQ 44.046875 -1.421875 31.78125 -1.421875 \nQ 19.53125 -1.421875 13.0625 8.265625 \nQ 6.59375 17.96875 6.59375 36.375 \nQ 6.59375 54.828125 13.0625 64.515625 \nQ 19.53125 74.21875 31.78125 74.21875 \nz\n\" id=\"DejaVuSans-48\"/>\n     </defs>\n     <use transform=\"translate(0 0.3125)\" xlink:href=\"#DejaVuSans-Oblique-956\"/>\n     <use transform=\"translate(63.623047 -16.09375)scale(0.7)\" xlink:href=\"#DejaVuSans-48\"/>\n    </g>\n   </g>\n  </g>\n  <g id=\"axes_2\">\n   <g clip-path=\"url(#p06a3e22608)\">\n    <image height=\"198\" id=\"image6246943072\" transform=\"scale(1 -1)translate(0 -198)\" width=\"198\" x=\"250.690909\" xlink:href=\"data:image/png;base64,\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\" y=\"-21.966477\"/>\n   </g>\n   <g id=\"text_2\">\n    <!-- $\\mu_1$ -->\n    <g transform=\"translate(342.867273 16.29375)scale(0.12 -0.12)\">\n     <defs>\n      <path d=\"M 12.40625 8.296875 \nL 28.515625 8.296875 \nL 28.515625 63.921875 \nL 10.984375 60.40625 \nL 10.984375 69.390625 \nL 28.421875 72.90625 \nL 38.28125 72.90625 \nL 38.28125 8.296875 \nL 54.390625 8.296875 \nL 54.390625 0 \nL 12.40625 0 \nz\n\" id=\"DejaVuSans-49\"/>\n     </defs>\n     <use transform=\"translate(0 0.3125)\" xlink:href=\"#DejaVuSans-Oblique-956\"/>\n     <use transform=\"translate(63.623047 -16.09375)scale(0.7)\" xlink:href=\"#DejaVuSans-49\"/>\n    </g>\n   </g>\n  </g>\n  <g id=\"axes_3\">\n   <g clip-path=\"url(#pd1f57980e8)\">\n    <image height=\"198\" id=\"image12f2f559e5\" transform=\"scale(1 -1)translate(0 -198)\" width=\"198\" x=\"7.2\" xlink:href=\"data:image/png;base64,\niVBORw0KGgoAAAANSUhEUgAAAMYAAADGCAYAAACJm/9dAAAECUlEQVR4nO3dMZbaShBAUfDR7hx5/4vBwc/sF9R4yr/l4d6YIwHinQ6Klp4/vn9/PTa9dg/3JTyfZ87rWvyxb6ffANyRMCAIA4IwIAgDgjAgCAOCMCAIA8J1+g28h+kEenlCPj2cAflvrBgQhAFBGBCEAUEYEIQBQRgQhAFBGBDuP/meTG+XJ7f7c+rtEfTweOPvxYj8V1YMCMKAIAwIwoAgDAjCgCAMCMKAIAwIxybfqzPe5cHteKJ96Cbm63cxP/GBxz+A4QuXvxIrBgRhQBAGBGFAEAYEYUAQBgRhQBAGhGs8RZ0+q3r4uud4ers5Xl7+rNu2t1SPP8aBa7E90V6+ZFYMCMKAIAwIwoAgDAjCgCAMCMKAIAwI8z3f4wn5H76Tz7j5Tbhfy3u09++yzq+sGBCEAUEYEIQBQRgQhAFBGBCEAeHanwFNt8D+/6e8+8DrOdxSe2i351uxYkAQBgRhQBAGBGFAEAYEYUAQBgRhQLjeaz66u8V0+6nCr+n7OzT6nnze6fR+3fJ3YsWAIAwIwoAgDAjCgCAMCMKAIAwIwoAwv6nz0HTuuTk0nh9r+Kjl6dFO/Wlg+ijgod0J/u4IevpvgO1LYcWAIAwIwoAgDAjCgCAMCMKAIAwIwoCwPvnevtn5ZO65PAieOzHm/9CJh0cbf47R1fjMW/n9aIfuZG/FgCAMCMKAIAwIwoAgDAjCgCAMCMKAcB0b3k4dO/HAnd/b33Bgk/upZ5pbMSAIA4IwIAgDgjAgCAOCMCAIA4IwIFzTaeZ8svjvj4Pnd9h+p2ekHzJ99Plw4//0mlkxIAgDgjAgCAOCMCAIA4IwIAgDgjAgfOBu519hor38QoPvv+45/GfG9q/TigFBGBCEAUEYEIQBQRgQhAFBGBCEAeGazgxHj3h+HLkh9gfszkcNyMvw9zT9VpZ/eNNrZsWAIAwIwoAgDAjCgCAMCMKAIAwIwoDwgT3fh0wGmtsbfsej6veafb+mU+iJ6Vdy6K8UVgwIwoAgDAjCgCAMCMKAIAwIwoAgDAjX5jDz8Zhv0R1bHHxOn/G8OuF97D+Dej5vn+6/Hh9w8WBDh242YMWAIAwIwoAgDAjCgCAMCMKAIAwI99/aujow+vcfyfyf5cHd2OKE79RkeTgItGJAEAYEYUAQBgRhQBAGBGFAEAYEYUC4/+T7zqa7KafD4OEWWD5j9h1bMSAIA4IwIAgDgjAgCAOCMCAIA4IwIFyv4SRwesPhext+hvFNmGfG8+zlwff0Psfz0w5eOT7poSn/8LRWDAjCgCAMCMKAIAwIwoAgDAjCgCAMCNfXmGjvmn8j67Pv3dOODzd9jPLkc5zat777rwYrBgRhQBAGBGFAEAYEYUAQBgRhQBAGhJ+8CIOWb/EbLwAAAABJRU5ErkJggg==\" y=\"-259.17375\"/>\n   </g>\n   <g id=\"text_3\">\n    <!-- $\\Sigma_0^{diag}$ -->\n    <g transform=\"translate(92.896364 253.501023)scale(0.12 -0.12)\">\n     <defs>\n      <path d=\"M 21.140625 8.296875 \nL 56.78125 8.296875 \nL 56.78125 0 \nL 9.8125 0 \nL 9.8125 8.296875 \nL 33.203125 38.765625 \nL 9.8125 64.59375 \nL 9.8125 72.90625 \nL 55.90625 72.90625 \nL 55.90625 64.59375 \nL 21.140625 64.59375 \nL 44.53125 38.96875 \nz\n\" id=\"DejaVuSans-931\"/>\n      <path d=\"M 41.796875 8.203125 \nQ 38.1875 3.46875 33.25 1.015625 \nQ 28.328125 -1.421875 22.3125 -1.421875 \nQ 14.109375 -1.421875 9.34375 4.171875 \nQ 4.59375 9.765625 4.59375 19.484375 \nQ 4.59375 27.59375 7.46875 34.9375 \nQ 10.359375 42.28125 15.828125 48.09375 \nQ 19.4375 51.953125 23.96875 53.96875 \nQ 28.515625 56 33.5 56 \nQ 38.765625 56 42.796875 53.453125 \nQ 46.828125 50.921875 49.03125 46.1875 \nL 54.890625 75.984375 \nL 63.921875 75.984375 \nL 49.125 0 \nL 40.09375 0 \nz\nM 13.921875 21.09375 \nQ 13.921875 14.015625 17.109375 10.0625 \nQ 20.3125 6.109375 25.984375 6.109375 \nQ 30.171875 6.109375 33.765625 8.125 \nQ 37.359375 10.15625 40.09375 14.109375 \nQ 42.96875 18.21875 44.625 23.578125 \nQ 46.296875 28.953125 46.296875 34.1875 \nQ 46.296875 40.96875 43.09375 44.765625 \nQ 39.890625 48.578125 34.28125 48.578125 \nQ 30.03125 48.578125 26.359375 46.578125 \nQ 22.703125 44.578125 20.125 40.828125 \nQ 17.28125 36.765625 15.59375 31.390625 \nQ 13.921875 26.03125 13.921875 21.09375 \nz\n\" id=\"DejaVuSans-Oblique-100\"/>\n      <path d=\"M 18.3125 75.984375 \nL 27.296875 75.984375 \nL 25.09375 64.59375 \nL 16.109375 64.59375 \nz\nM 14.203125 54.6875 \nL 23.1875 54.6875 \nL 12.5 0 \nL 3.515625 0 \nz\n\" id=\"DejaVuSans-Oblique-105\"/>\n      <path d=\"M 53.71875 31.203125 \nL 47.609375 0 \nL 38.625 0 \nL 40.28125 8.296875 \nQ 36.328125 3.421875 31.265625 1 \nQ 26.21875 -1.421875 20.015625 -1.421875 \nQ 13.03125 -1.421875 8.5625 2.84375 \nQ 4.109375 7.125 4.109375 13.8125 \nQ 4.109375 23.390625 11.75 28.953125 \nQ 19.390625 34.515625 32.8125 34.515625 \nL 45.3125 34.515625 \nL 45.796875 36.921875 \nQ 45.90625 37.3125 45.953125 37.765625 \nQ 46 38.234375 46 39.203125 \nQ 46 43.5625 42.453125 45.96875 \nQ 38.921875 48.390625 32.515625 48.390625 \nQ 28.125 48.390625 23.5 47.265625 \nQ 18.890625 46.140625 14.015625 43.890625 \nL 15.578125 52.203125 \nQ 20.65625 54.109375 25.515625 55.046875 \nQ 30.375 56 34.90625 56 \nQ 44.578125 56 49.625 51.796875 \nQ 54.6875 47.609375 54.6875 39.59375 \nQ 54.6875 37.984375 54.4375 35.8125 \nQ 54.203125 33.640625 53.71875 31.203125 \nz\nM 44 27.484375 \nL 35.015625 27.484375 \nQ 23.96875 27.484375 18.671875 24.53125 \nQ 13.375 21.578125 13.375 15.375 \nQ 13.375 11.078125 16.078125 8.640625 \nQ 18.796875 6.203125 23.578125 6.203125 \nQ 30.90625 6.203125 36.375 11.453125 \nQ 41.84375 16.703125 43.609375 25.484375 \nz\n\" id=\"DejaVuSans-Oblique-97\"/>\n      <path d=\"M 59.625 54.6875 \nL 50.296875 6.78125 \nQ 47.609375 -7.125 40.015625 -13.953125 \nQ 32.421875 -20.796875 19.578125 -20.796875 \nQ 14.84375 -20.796875 10.78125 -20.09375 \nQ 6.734375 -19.390625 3.21875 -17.921875 \nL 4.890625 -9.1875 \nQ 8.203125 -11.328125 11.90625 -12.34375 \nQ 15.625 -13.375 19.828125 -13.375 \nQ 28.375 -13.375 33.859375 -8.703125 \nQ 39.359375 -4.046875 41.109375 4.6875 \nL 41.890625 8.796875 \nQ 38.140625 4.5 33.15625 2.25 \nQ 28.171875 0 22.40625 0 \nQ 14.109375 0 9.34375 5.484375 \nQ 4.59375 10.984375 4.59375 20.609375 \nQ 4.59375 28.171875 7.46875 35.421875 \nQ 10.359375 42.671875 15.578125 48.296875 \nQ 19.046875 52 23.65625 54 \nQ 28.265625 56 33.296875 56 \nQ 38.8125 56 42.90625 53.4375 \nQ 47.015625 50.875 49.03125 46.1875 \nL 50.59375 54.6875 \nz\nM 46.09375 34.625 \nQ 46.09375 41.265625 42.96875 44.875 \nQ 39.84375 48.484375 34.078125 48.484375 \nQ 30.515625 48.484375 27.296875 47.0625 \nQ 24.078125 45.65625 21.78125 43.109375 \nQ 18.0625 38.921875 15.984375 33.234375 \nQ 13.921875 27.546875 13.921875 21.484375 \nQ 13.921875 14.75 17.0625 11.125 \nQ 20.21875 7.515625 26.125 7.515625 \nQ 34.671875 7.515625 40.375 15.25 \nQ 46.09375 23 46.09375 34.625 \nz\n\" id=\"DejaVuSans-Oblique-103\"/>\n     </defs>\n     <use transform=\"translate(0 0.14375)\" xlink:href=\"#DejaVuSans-931\"/>\n     <use transform=\"translate(64.140625 51.810938)scale(0.7)\" xlink:href=\"#DejaVuSans-Oblique-100\"/>\n     <use transform=\"translate(108.574219 51.810938)scale(0.7)\" xlink:href=\"#DejaVuSans-Oblique-105\"/>\n     <use transform=\"translate(128.022461 51.810938)scale(0.7)\" xlink:href=\"#DejaVuSans-Oblique-97\"/>\n     <use transform=\"translate(170.917969 51.810938)scale(0.7)\" xlink:href=\"#DejaVuSans-Oblique-103\"/>\n     <use transform=\"translate(64.140625 -27.2)scale(0.7)\" xlink:href=\"#DejaVuSans-48\"/>\n    </g>\n   </g>\n  </g>\n  <g id=\"axes_4\">\n   <g clip-path=\"url(#pd3a29f6d94)\">\n    <image height=\"198\" id=\"imagea6a0d1f515\" transform=\"scale(1 -1)translate(0 -198)\" width=\"198\" x=\"250.690909\" xlink:href=\"data:image/png;base64,\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\" y=\"-259.17375\"/>\n   </g>\n   <g id=\"text_4\">\n    <!-- $\\Sigma_1^{diag}$ -->\n    <g transform=\"translate(336.387273 253.501023)scale(0.12 -0.12)\">\n     <use transform=\"translate(0 0.0625)\" xlink:href=\"#DejaVuSans-931\"/>\n     <use transform=\"translate(64.140625 50.810938)scale(0.7)\" xlink:href=\"#DejaVuSans-Oblique-100\"/>\n     <use transform=\"translate(108.574219 50.810938)scale(0.7)\" xlink:href=\"#DejaVuSans-Oblique-105\"/>\n     <use transform=\"translate(128.022461 50.810938)scale(0.7)\" xlink:href=\"#DejaVuSans-Oblique-97\"/>\n     <use transform=\"translate(170.917969 50.810938)scale(0.7)\" xlink:href=\"#DejaVuSans-Oblique-103\"/>\n     <use transform=\"translate(64.140625 -27.28125)scale(0.7)\" xlink:href=\"#DejaVuSans-49\"/>\n    </g>\n   </g>\n  </g>\n </g>\n <defs>\n  <clipPath id=\"p5b418cbcef\">\n   <rect height=\"197.672727\" width=\"197.672727\" x=\"7.2\" y=\"22.29375\"/>\n  </clipPath>\n  <clipPath id=\"p06a3e22608\">\n   <rect height=\"197.672727\" width=\"197.672727\" x=\"250.690909\" y=\"22.29375\"/>\n  </clipPath>\n  <clipPath id=\"pd1f57980e8\">\n   <rect height=\"197.672727\" width=\"197.672727\" x=\"7.2\" y=\"259.501023\"/>\n  </clipPath>\n  <clipPath id=\"pd3a29f6d94\">\n   <rect height=\"197.672727\" width=\"197.672727\" x=\"250.690909\" y=\"259.501023\"/>\n  </clipPath>\n </defs>\n</svg>\n",
      "image/png": "[encoded data removed]"
     },
     "metadata": {
      "needs_background": "light"
     }
    }
   ],
   "source": [
    "# Reshape mean vector\n",
    "def convertToImg(x, img_size):\n",
    "    return ((x * 255.0).reshape(img_size[0],img_size[1],-1)).astype(int)\n",
    "    \n",
    "mu0_img = convertToImg(mu0, (20,20))\n",
    "mu1_img = convertToImg(mu1, (20,20))\n",
    "\n",
    "sigma0_img = convertToImg(np.sqrt(sigma0.diagonal()), (20,20))\n",
    "sigma1_img = convertToImg(np.sqrt(sigma1.diagonal()), (20,20))\n",
    "\n",
    "# Plot code\n",
    "fig, axes = plt.subplots(2,2, figsize=(8,8))\n",
    "[axi.axis('off') for axi in axes.flat] # hide axis\n",
    "\n",
    "axes[0,1].imshow(mu1_img)\n",
    "axes[0,1].set_title(r'$\\mu_1$')\n",
    "axes[0,0].imshow(mu0_img)\n",
    "axes[0,0].set_title(r'$\\mu_0$')\n",
    "axes[1,0].imshow(sigma0_img)\n",
    "axes[1,0].set_title(r'$\\Sigma_0^{diag}$')\n",
    "axes[1,1].imshow(sigma1_img)\n",
    "axes[1,1].set_title(r'$\\Sigma_1^{diag}$')"
   ]
  }
 ]
}