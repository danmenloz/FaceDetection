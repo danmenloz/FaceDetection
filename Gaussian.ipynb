{
 "metadata": {
  "language_info": {
   "codemirror_mode": {
    "name": "ipython",
    "version": 3
   },
   "file_extension": ".py",
   "mimetype": "text/x-python",
   "name": "python",
   "nbconvert_exporter": "python",
   "pygments_lexer": "ipython3",
   "version": "3.7.5-final"
  },
  "orig_nbformat": 2,
  "kernelspec": {
   "name": "python3",
   "display_name": "Python 3.7.5 64-bit ('ECE763': conda)",
   "metadata": {
    "interpreter": {
     "hash": "c0164b6fc447729148a9dbbb776f9cf8796208f9f8eb26f117ee183b2f428654"
    }
   }
  }
 },
 "nbformat": 4,
 "nbformat_minor": 2,
 "cells": [
  {
   "source": [
    "# ECE 763 Project 01: Face Detection\n",
    "## faceScrub dataset"
   ],
   "cell_type": "markdown",
   "metadata": {}
  },
  {
   "cell_type": "code",
   "execution_count": 1,
   "metadata": {},
   "outputs": [],
   "source": [
    "import csv\n",
    "import math\n",
    "import numpy as np\n",
    "import matplotlib.pyplot as plt\n",
    "from sklearn.decomposition import PCA\n",
    "from PIL import Image\n",
    "from tqdm import tqdm"
   ]
  },
  {
   "source": [
    "## Global Methods and Variables"
   ],
   "cell_type": "markdown",
   "metadata": {}
  },
  {
   "cell_type": "code",
   "execution_count": 2,
   "metadata": {},
   "outputs": [],
   "source": [
    "# Image size in pixels\n",
    "img_size = (20,20)\n",
    "\n",
    "# Create dataset dictionaries\n",
    "def buildDataset(actors_list):\n",
    "  img_set = [] # empty list\n",
    "  for actor in tqdm(actors_list, total=len(actors_list) ,desc='Loading dataset'):\n",
    "    img0 = {} # empty dictionary\n",
    "    img1 = {} # empty dictionary\n",
    "    try:\n",
    "      # create dictionary and add it to the list\n",
    "      img0['file'] = actor['0']\n",
    "      img0['class'] = 0\n",
    "      img0['image'] = Image.open(actor['0'])\n",
    "      img_set.append(img0)\n",
    "      img1['file'] = actor['1']\n",
    "      img1['class'] = 1\n",
    "      img1['image'] = Image.open(actor['1'])\n",
    "      img_set.append(img1)\n",
    "    except:\n",
    "      print(actor['name'] + \" couldn't be found!\")\n",
    "  return img_set\n",
    "\n",
    "\n",
    "# Perform whitening to data\n",
    "def whitening(data):\n",
    "    eps = 0.0001 # Constant to avoid overflow in division\n",
    "    mean = sum(data) / len(data)\n",
    "    std = np.sqrt( sum(np.power( data - mean, 2) ) / len(data) )\n",
    "    white = (data - mean) / (std + eps)\n",
    "    return white, mean, std\n",
    "\n",
    "\n",
    "# Perform dewhitening (Inverse of whitening)\n",
    "def deWhitening(data, mean, std):\n",
    "    eps = 0.0001\n",
    "    inv_white = data * (std+eps) + mean\n",
    "    return inv_white\n",
    "\n",
    "\n",
    "# Reshape vector to RGB image\n",
    "def convertToImage(X, model, mean, std, cov=False):\n",
    "  img = model.inverse_transform(X)\n",
    "  img = np.reshape(img, [img_size[0],img_size[1],3])\n",
    "  img = deWhitening(img, mean, std)\n",
    "  if cov: # is a covariance vector?\n",
    "    img = np.sqrt( abs(img) )\n",
    "  return img.astype(np.uint8)\n",
    "\n"
   ]
  },
  {
   "source": [
    "Load datasets into memmory"
   ],
   "cell_type": "markdown",
   "metadata": {}
  },
  {
   "cell_type": "code",
   "execution_count": 3,
   "metadata": {},
   "outputs": [
    {
     "output_type": "stream",
     "name": "stderr",
     "text": [
      "Loading dataset: 100%|██████████| 100/100 [00:00<00:00, 7082.58it/s]\n",
      "Loading dataset: 100%|██████████| 1000/1000 [00:00<00:00, 10889.43it/s]\n"
     ]
    }
   ],
   "source": [
    "test_actors = []\n",
    "train_actors = []\n",
    "\n",
    "test_file = './data/test/test.txt'\n",
    "train_file = './data/training/training.txt'\n",
    "\n",
    "# Read test data\n",
    "with open(test_file, newline='') as actors:\n",
    "    actors_reader = csv.DictReader(actors, delimiter='\\t')\n",
    "    for actor in actors_reader:\n",
    "        test_actors.append(actor)\n",
    "\n",
    "# Read training data\n",
    "with open(train_file, newline='') as actors:\n",
    "    actors_reader = csv.DictReader(actors, delimiter='\\t')\n",
    "    for actor in actors_reader:\n",
    "        train_actors.append(actor)\n",
    "\n",
    "# Build datasets\n",
    "test_set = buildDataset(test_actors)\n",
    "train_set = buildDataset(train_actors)"
   ]
  },
  {
   "source": [
    "Apply whitening and PCA transformations to all dataset (test set + train set)"
   ],
   "cell_type": "markdown",
   "metadata": {}
  },
  {
   "cell_type": "code",
   "execution_count": 4,
   "metadata": {},
   "outputs": [
    {
     "output_type": "stream",
     "name": "stdout",
     "text": [
      "Face whitening\nfaces_white:(1100, 20, 20, 3)  face_avg:(20, 20, 3)  face_std:(20, 20, 3)\nNon-face whitening\nnonfaces_white:(1100, 20, 20, 3)  nonface_avg:(20, 20, 3)  nonface_std:(20, 20, 3)\nFace PCA\nfaces_PCA:(1100, 10)\nNon-face PCA\nnonfaces_PCA:(1100, 10)\n"
     ]
    }
   ],
   "source": [
    "# Retreive faces and non-faces images from all dataset\n",
    "faces_list = [ np.asfarray(face['image']) for face in test_set+train_set if face['class']==1 ]\n",
    "nonfaces_list = [ np.asfarray(face['image']) for face in test_set+train_set if face['class']==0 ]\n",
    "\n",
    "# Apply data whitening transformation\n",
    "faces_white, face_avg, face_std = whitening(faces_list)\n",
    "nonfaces_white, nonface_avg, nonface_std = whitening(nonfaces_list)\n",
    "\n",
    "# Apply PCA transformation\n",
    "n_cmpts = 10\n",
    "\n",
    "face_model = PCA(n_components=n_cmpts)\n",
    "faces_PCA = face_model.fit_transform( np.stack(faces_white).reshape( (len(faces_white), faces_white[0].size) ) ) \n",
    "\n",
    "nonface_model = PCA(n_components=n_cmpts)\n",
    "nonfaces_PCA = nonface_model.fit_transform( np.stack(nonfaces_white).reshape( (len(nonfaces_white), nonfaces_white[0].size) ) )\n",
    "\n",
    "# Inspect data\n",
    "print('Face whitening')\n",
    "print('faces_white:' + str(faces_white.shape) + '  face_avg:' + str(face_avg.shape) + '  face_std:' + str(face_std.shape))\n",
    "print('Non-face whitening')\n",
    "print('nonfaces_white:' + str(nonfaces_white.shape) + '  nonface_avg:' + str(nonface_avg.shape) + '  nonface_std:' + str(nonface_std.shape))\n",
    "print('Face PCA')\n",
    "print('faces_PCA:' + str(faces_PCA.shape))\n",
    "print('Non-face PCA')\n",
    "print('nonfaces_PCA:' + str(nonfaces_PCA.shape))"
   ]
  },
  {
   "source": [
    "Split pre-process data to create face and non face data matrixes for the test and train set respectively"
   ],
   "cell_type": "markdown",
   "metadata": {}
  },
  {
   "cell_type": "code",
   "execution_count": 5,
   "metadata": {},
   "outputs": [
    {
     "output_type": "stream",
     "name": "stdout",
     "text": [
      "Face data\nX1_train:(1000, 10)  X1_test:(100, 10)\nNon-face data\nX0_train:(1000, 10)  X0_test:(100, 10)\n"
     ]
    }
   ],
   "source": [
    "# Retreive pre-processed test and training datasets\n",
    "face_test_size = len([face for face in test_set if face['class']==1])\n",
    "nonface_test_size = len([face for face in test_set if face['class']==0])\n",
    "\n",
    "X1_test = faces_PCA[:face_test_size,:]\n",
    "X1_train = faces_PCA[face_test_size-1:-1,:]\n",
    "\n",
    "X0_test = nonfaces_PCA[:nonface_test_size,:]\n",
    "X0_train = nonfaces_PCA[nonface_test_size-1:-1,:]\n",
    "\n",
    "# Inspect data\n",
    "print('Face data')\n",
    "print('X1_train:' + str(X1_train.shape) + '  X1_test:' + str(X1_test.shape))\n",
    "print('Non-face data')\n",
    "print('X0_train:' + str(X0_train.shape) + '  X0_test:' + str(X0_test.shape))"
   ]
  },
  {
   "source": [
    "# Single Multivariate Gaussian Model"
   ],
   "cell_type": "markdown",
   "metadata": {}
  },
  {
   "source": [
    "## Methods SMG Model"
   ],
   "cell_type": "markdown",
   "metadata": {}
  },
  {
   "cell_type": "code",
   "execution_count": 6,
   "metadata": {},
   "outputs": [],
   "source": [
    "def logProbSMG(X, mu, sigma):\n",
    "    dim = len(mu.ravel())\n",
    "    log_2pi = -dim / 2*np.log(2*math.pi)\n",
    "    log_sigma = -1/2 * np.sum(np.log(sigma), where=(sigma>0))\n",
    "    log_mu = -1/2 * np.sum( np.power(X-mu,2) / sigma, axis=1)\n",
    "    log_prob = log_2pi + log_sigma + log_mu\n",
    "    return log_prob\n",
    "\n",
    "\n",
    "def fitSMG(X):\n",
    "    num_data = X.shape[0]\n",
    "    mu = np.sum(X,axis=0) / num_data\n",
    "    sigma = np.zeros( [1, X[0].size] )\n",
    "    for i in range(num_data):\n",
    "        x = X[i]\n",
    "        sigma += np.power(x-mu,2)\n",
    "    sigma = sigma / num_data\n",
    "    return mu, sigma\n",
    "\n",
    "\n",
    "def predictSMG(X, label, mean, sigma, threshold):\n",
    "    num_data = X.shape[0]\n",
    "    num_class = len(mean)\n",
    "    log_prob = np.zeros([num_class,num_data])\n",
    "    for i in range(num_class):\n",
    "        log_prob[i,:] = logProbSMG(X, mean[i], sigma[i])  \n",
    "    prob = np.exp(log_prob)    \n",
    "    norm_prob = prob[1,:] / (prob[1,:] + prob[0,:])\n",
    "    num_true = sum( ( norm_prob>=threshold ) == label )\n",
    "    num_false = num_data - num_true\n",
    "    return num_true, num_false"
   ]
  },
  {
   "source": [
    "Compute sample mean vector and sample covariance matrix and visualize the estimated mean and covariance matrix for face and non-face respectively"
   ],
   "cell_type": "markdown",
   "metadata": {}
  },
  {
   "cell_type": "code",
   "execution_count": 7,
   "metadata": {},
   "outputs": [
    {
     "output_type": "execute_result",
     "data": {
      "text/plain": [
       "Text(0.5, 1.0, '$\\\\Sigma_1^{diag}$')"
      ]
     },
     "metadata": {},
     "execution_count": 7
    },
    {
     "output_type": "display_data",
     "data": {
      "text/plain": "<Figure size 576x576 with 4 Axes>",
      "image/svg+xml": "<?xml version=\"1.0\" encoding=\"utf-8\" standalone=\"no\"?>\n<!DOCTYPE svg PUBLIC \"-//W3C//DTD SVG 1.1//EN\"\n  \"http://www.w3.org/Graphics/SVG/1.1/DTD/svg11.dtd\">\n<!-- Created with matplotlib (https://matplotlib.org/) -->\n<svg height=\"464.37375pt\" version=\"1.1\" viewBox=\"0 0 455.563636 464.37375\" width=\"455.563636pt\" xmlns=\"http://www.w3.org/2000/svg\" xmlns:xlink=\"http://www.w3.org/1999/xlink\">\n <metadata>\n  <rdf:RDF xmlns:cc=\"http://creativecommons.org/ns#\" xmlns:dc=\"http://purl.org/dc/elements/1.1/\" xmlns:rdf=\"http://www.w3.org/1999/02/22-rdf-syntax-ns#\">\n   <cc:Work>\n    <dc:type rdf:resource=\"http://purl.org/dc/dcmitype/StillImage\"/>\n    <dc:date>2021-02-27T17:41:55.484443</dc:date>\n    <dc:format>image/svg+xml</dc:format>\n    <dc:creator>\n     <cc:Agent>\n      <dc:title>Matplotlib v3.3.2, https://matplotlib.org/</dc:title>\n     </cc:Agent>\n    </dc:creator>\n   </cc:Work>\n  </rdf:RDF>\n </metadata>\n <defs>\n  <style type=\"text/css\">*{stroke-linecap:butt;stroke-linejoin:round;}</style>\n </defs>\n <g id=\"figure_1\">\n  <g id=\"patch_1\">\n   <path d=\"M 0 464.37375 \nL 455.563636 464.37375 \nL 455.563636 -0 \nL 0 -0 \nz\n\" style=\"fill:none;\"/>\n  </g>\n  <g id=\"axes_1\">\n   <g clip-path=\"url(#pc7ed17ea34)\">\n    <image height=\"198\" id=\"imagef53241dc4e\" transform=\"scale(1 -1)translate(0 -198)\" width=\"198\" x=\"7.2\" xlink:href=\"data:image/png;base64,\niVBORw0KGgoAAAANSUhEUgAAAMYAAADGCAYAAACJm/9dAAAEOklEQVR4nO3dO47jSBBAQXGgQ461F5j721qj3Qd0apHY4qgjbIHUhw80UlW8/vzz+/VYdA1f93qsnnbkGr+7M67rzPub/xLfv3L6HU9//9fwzY2/ueELf02PBz+JMCAIA4IwIAgDgjAgCAOCMCAIA8Jze7T4/8+zP8eJfwN8ufM/AoYT8uUL1B0DgjAgCAOCMCAIA4IwIAgDgjAgCAPCc/zK6VD2xkPU7cny9vrma/z2hl/y+LfY+17OTe93L1B3DAjCgCAMCMKAIAwIwoAgDAjCgCAMCPPJ99T24HMwqLz7Lub3N9+jfst0q4G53WvAHQOCMCAIA4IwIAgDgjAgCAOCMCAIA8JzvFJ2+0HKB9YZjyfky4P06Vru8cbz21/xfLH594cavm5+xtkRtx+R7o4BQRgQhAFBGBCEAUEYEIQBQRgQhAHhjTXfN15Xvb0T+/J65O1NzO9s/58Uu67hid0xIAgDgjAgCAOCMCAIA4IwIAgDwhsDvhs/z3h4yvkS2Onxds3Pu7yU9ycZ/mjuGBCEAUEYEIQBQRgQhAFBGBCEAUEYEOaT7wMbBJ+zvJHw+Nm9p2bu09MunvfQ2tbpvwbcMSAIA4IwIAgDgjAgCAOCMCAIA4IwILyx5nvo718avn6813TKO36c8bEdkc+c9wB3DAjCgCAMCMKAIAwIwoAgDAjCgCAMCM9jQ9Tp3HjyshtP299y8/c3+c2ma6rH6+qHRxvveG+3c/jvhAFBGBCEAUEYEIQBQRgQhAFBGBD213yfcGhi/An7un+ZfYEnPu/4nOP18rPXuWNAEAYEYUAQBgRhQBAGBGFAEAYEYUC4/+R7MtFcXD4+PeXP9P03M11TfR16HvzrNbsK3DEgCAOCMCAIA4IwIAgDgjAgCAOCMCA8x7uOj00nmnuLdFd3Tn88Htd0fDv0OZP0wW8xnGjvb1C/ex27Y0AQBgRhQBAGBGFAEAYEYUAQBgRhQHiuL4Q+9eDwTcufYXy04Xd8bpK+d+btq2T7snPHgCAMCMKAIAwIwoAgDAjCgCAMCMKA8JwPvqdj2dkRdyeV+yuIN4+2vIT8sT37nq6Z/5y1699zx4AgDAjCgCAMCMKAIAwIwoAgDAjCgPDGc75PTLQP2R3yjw/4CWu5T3kN/15wDS9QdwwIwoAgDAjCgCAMCMKAIAwIwoAwHvB9xOBuav2zbu+cfcbkU5z6BNPB3ZQ7BgRhQBAGBGFAEAYEYUAQBgRhQBAGhPWlrcsv+wzLg+/16fJ0ary4O/X49x++t+3ryR0DgjAgCAOCMCAIA4IwIAgDgjAgCAPCc3ut7NjmefefFzyzPTE+MIF+y+D9XafG98uXsTsGBGFAEAYEYUAQBgRhQBAGBGFAEAaE56lp63wZ9OC8t99MfPcNXsPjjb67dduf9Qx3DAjCgCAMCMKAIAwIwoAgDAjCgCAMCP8CamWF+Dt8xrAAAAAASUVORK5CYII=\" y=\"-21.966477\"/>\n   </g>\n   <g id=\"text_1\">\n    <!-- $\\mu_0$ -->\n    <g transform=\"translate(99.376364 16.29375)scale(0.12 -0.12)\">\n     <defs>\n      <path d=\"M -1.3125 -20.796875 \nL 13.375 54.6875 \nL 22.40625 54.6875 \nL 15.765625 20.65625 \nQ 15.578125 19.625 15.421875 18.359375 \nQ 15.28125 17.09375 15.28125 15.828125 \nQ 15.28125 11.28125 18.140625 8.828125 \nQ 21 6.390625 26.3125 6.390625 \nQ 33.546875 6.390625 37.984375 10.484375 \nQ 42.4375 14.59375 44 22.796875 \nL 50.203125 54.6875 \nL 59.1875 54.6875 \nL 51.03125 12.640625 \nQ 50.828125 11.71875 50.75 11.03125 \nQ 50.6875 10.359375 50.6875 9.8125 \nQ 50.6875 8.296875 51.296875 7.59375 \nQ 51.90625 6.890625 53.21875 6.890625 \nQ 53.71875 6.890625 54.5625 7.125 \nQ 55.421875 7.375 56.984375 8.015625 \nL 55.609375 0.78125 \nQ 53.46875 -0.296875 51.515625 -0.859375 \nQ 49.5625 -1.421875 47.703125 -1.421875 \nQ 44.484375 -1.421875 42.65625 0.625 \nQ 40.828125 2.6875 40.828125 6.296875 \nQ 38.09375 2.390625 34.296875 0.484375 \nQ 30.515625 -1.421875 25.390625 -1.421875 \nQ 20.84375 -1.421875 17.453125 0.671875 \nQ 14.0625 2.78125 12.984375 6.203125 \nL 7.71875 -20.796875 \nz\n\" id=\"DejaVuSans-Oblique-956\"/>\n      <path d=\"M 31.78125 66.40625 \nQ 24.171875 66.40625 20.328125 58.90625 \nQ 16.5 51.421875 16.5 36.375 \nQ 16.5 21.390625 20.328125 13.890625 \nQ 24.171875 6.390625 31.78125 6.390625 \nQ 39.453125 6.390625 43.28125 13.890625 \nQ 47.125 21.390625 47.125 36.375 \nQ 47.125 51.421875 43.28125 58.90625 \nQ 39.453125 66.40625 31.78125 66.40625 \nz\nM 31.78125 74.21875 \nQ 44.046875 74.21875 50.515625 64.515625 \nQ 56.984375 54.828125 56.984375 36.375 \nQ 56.984375 17.96875 50.515625 8.265625 \nQ 44.046875 -1.421875 31.78125 -1.421875 \nQ 19.53125 -1.421875 13.0625 8.265625 \nQ 6.59375 17.96875 6.59375 36.375 \nQ 6.59375 54.828125 13.0625 64.515625 \nQ 19.53125 74.21875 31.78125 74.21875 \nz\n\" id=\"DejaVuSans-48\"/>\n     </defs>\n     <use transform=\"translate(0 0.3125)\" xlink:href=\"#DejaVuSans-Oblique-956\"/>\n     <use transform=\"translate(63.623047 -16.09375)scale(0.7)\" xlink:href=\"#DejaVuSans-48\"/>\n    </g>\n   </g>\n  </g>\n  <g id=\"axes_2\">\n   <g clip-path=\"url(#p931191eeea)\">\n    <image height=\"198\" id=\"image160e407220\" transform=\"scale(1 -1)translate(0 -198)\" width=\"198\" x=\"250.690909\" xlink:href=\"data:image/png;base64,\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\" y=\"-21.966477\"/>\n   </g>\n   <g id=\"text_2\">\n    <!-- $\\mu_1$ -->\n    <g transform=\"translate(342.867273 16.29375)scale(0.12 -0.12)\">\n     <defs>\n      <path d=\"M 12.40625 8.296875 \nL 28.515625 8.296875 \nL 28.515625 63.921875 \nL 10.984375 60.40625 \nL 10.984375 69.390625 \nL 28.421875 72.90625 \nL 38.28125 72.90625 \nL 38.28125 8.296875 \nL 54.390625 8.296875 \nL 54.390625 0 \nL 12.40625 0 \nz\n\" id=\"DejaVuSans-49\"/>\n     </defs>\n     <use transform=\"translate(0 0.3125)\" xlink:href=\"#DejaVuSans-Oblique-956\"/>\n     <use transform=\"translate(63.623047 -16.09375)scale(0.7)\" xlink:href=\"#DejaVuSans-49\"/>\n    </g>\n   </g>\n  </g>\n  <g id=\"axes_3\">\n   <g clip-path=\"url(#p6316cb4ef6)\">\n    <image height=\"198\" id=\"image95068267ab\" transform=\"scale(1 -1)translate(0 -198)\" width=\"198\" x=\"7.2\" xlink:href=\"data:image/png;base64,\niVBORw0KGgoAAAANSUhEUgAAAMYAAADGCAYAAACJm/9dAAADkElEQVR4nO3dQW7rRhBAQTngbfLvfz3nAg9IG+lgRnLVmhBJ2Q+zaHH49fefP9+vga/JQT85cvWw4VHzmxi6+7xzo3+BZdN7OHFtr9dfR84KlxMGBGFAEAYEYUAQBgRhQBAGBGFAeOaH7k5b1yfpq3an9+vnXXfgvOPB95kpvxUDgjAgCAOCMCAIA4IwIAgDgjAgCAPCDybfFzs0ML57en/G+vPtw8/7Hj8aPvtAKwYEYUAQBgRhQBAGBGFAEAYEYUAQBoTnE2ayp3ZiPzXR3t89/f1Nv5PphNyKAUEYEIQBQRgQhAFBGBCEAUEYEIQB4VnfxXx5ajz7vFM7sS9/4JlXWi/7jJu1YkAQBgRhQBAGBGFAEAYEYUAQBgRhQPiM3c6nLn+W+/5N0a+/wH83vAUrBgRhQBAGBGFAEAYEYUAQBgRhQJgP+I7NdgYn3t6r+ZBz13fizGcegZ2e1YoBQRgQhAFBGBCEAUEYEIQBQRgQhAHh2Z8a3zyGXj7pzbd6+MzvzooBQRgQhAFBGBCEAUEYEIQBQRgQhAHhGT9Se/EQ9dTrh9d/DUA482y4FQOCMCAIA4IwIAgDgjAgCAOCMCAIA8L4me+7H3DevbbrJ9rbp90dGn8EKwYEYUAQBgRhQBAGBGFAEAYEYUAQBoTn69D09lc9BX3oRwPrA+3NC7x82m7FgCAMCMKAIAwIwoAgDAjCgCAMCMKA8Jy+gB27W7Z/wAbwr9frB/uEH5jMT885n5Dv/jWsGBCEAUEYEIQBQRgQhAFBGBCEAUEYENYn3+s7hY8O25163j7R3nbifrc32f9efobcigFBGBCEAUEYEIQBQRgQhAFBGBCEAWH8nu8zE+3L/aJbvd7yl2zFgCAMCMKAIAwIwoAgDAjCgCAMCMKAcP1u56P3kJ+a3h9z8/WdeYH39ubpVgwIwoAgDAjCgCAMCMKAIAwIwoAgDAjXT7533Twxfr3uv76J9Rd4r5penRUDgjAgCAOCMCAIA4IwIAgDgjAgPOM5yyfMnqZs1vzrWTEgCAOCMCAIA4IwIAgDgjAgCAOCMCD84NHW3XGwqXHxM4T/m02d4T8QBgRhQBAGBGFAEAYEYUAQBgRhQHi+jg1R9068fgsG0G9nvEX08EArBgRhQBAGBGFAEAYEYUAQBgRhQBAGhIOvM37/8fK5O3j/7+52VgwIwoAgDAjCgCAMCMKAIAwIwoAgDAj/AK5cJpm02C6SAAAAAElFTkSuQmCC\" y=\"-259.17375\"/>\n   </g>\n   <g id=\"text_3\">\n    <!-- $\\Sigma_0^{diag}$ -->\n    <g transform=\"translate(92.896364 253.501023)scale(0.12 -0.12)\">\n     <defs>\n      <path d=\"M 21.140625 8.296875 \nL 56.78125 8.296875 \nL 56.78125 0 \nL 9.8125 0 \nL 9.8125 8.296875 \nL 33.203125 38.765625 \nL 9.8125 64.59375 \nL 9.8125 72.90625 \nL 55.90625 72.90625 \nL 55.90625 64.59375 \nL 21.140625 64.59375 \nL 44.53125 38.96875 \nz\n\" id=\"DejaVuSans-931\"/>\n      <path d=\"M 41.796875 8.203125 \nQ 38.1875 3.46875 33.25 1.015625 \nQ 28.328125 -1.421875 22.3125 -1.421875 \nQ 14.109375 -1.421875 9.34375 4.171875 \nQ 4.59375 9.765625 4.59375 19.484375 \nQ 4.59375 27.59375 7.46875 34.9375 \nQ 10.359375 42.28125 15.828125 48.09375 \nQ 19.4375 51.953125 23.96875 53.96875 \nQ 28.515625 56 33.5 56 \nQ 38.765625 56 42.796875 53.453125 \nQ 46.828125 50.921875 49.03125 46.1875 \nL 54.890625 75.984375 \nL 63.921875 75.984375 \nL 49.125 0 \nL 40.09375 0 \nz\nM 13.921875 21.09375 \nQ 13.921875 14.015625 17.109375 10.0625 \nQ 20.3125 6.109375 25.984375 6.109375 \nQ 30.171875 6.109375 33.765625 8.125 \nQ 37.359375 10.15625 40.09375 14.109375 \nQ 42.96875 18.21875 44.625 23.578125 \nQ 46.296875 28.953125 46.296875 34.1875 \nQ 46.296875 40.96875 43.09375 44.765625 \nQ 39.890625 48.578125 34.28125 48.578125 \nQ 30.03125 48.578125 26.359375 46.578125 \nQ 22.703125 44.578125 20.125 40.828125 \nQ 17.28125 36.765625 15.59375 31.390625 \nQ 13.921875 26.03125 13.921875 21.09375 \nz\n\" id=\"DejaVuSans-Oblique-100\"/>\n      <path d=\"M 18.3125 75.984375 \nL 27.296875 75.984375 \nL 25.09375 64.59375 \nL 16.109375 64.59375 \nz\nM 14.203125 54.6875 \nL 23.1875 54.6875 \nL 12.5 0 \nL 3.515625 0 \nz\n\" id=\"DejaVuSans-Oblique-105\"/>\n      <path d=\"M 53.71875 31.203125 \nL 47.609375 0 \nL 38.625 0 \nL 40.28125 8.296875 \nQ 36.328125 3.421875 31.265625 1 \nQ 26.21875 -1.421875 20.015625 -1.421875 \nQ 13.03125 -1.421875 8.5625 2.84375 \nQ 4.109375 7.125 4.109375 13.8125 \nQ 4.109375 23.390625 11.75 28.953125 \nQ 19.390625 34.515625 32.8125 34.515625 \nL 45.3125 34.515625 \nL 45.796875 36.921875 \nQ 45.90625 37.3125 45.953125 37.765625 \nQ 46 38.234375 46 39.203125 \nQ 46 43.5625 42.453125 45.96875 \nQ 38.921875 48.390625 32.515625 48.390625 \nQ 28.125 48.390625 23.5 47.265625 \nQ 18.890625 46.140625 14.015625 43.890625 \nL 15.578125 52.203125 \nQ 20.65625 54.109375 25.515625 55.046875 \nQ 30.375 56 34.90625 56 \nQ 44.578125 56 49.625 51.796875 \nQ 54.6875 47.609375 54.6875 39.59375 \nQ 54.6875 37.984375 54.4375 35.8125 \nQ 54.203125 33.640625 53.71875 31.203125 \nz\nM 44 27.484375 \nL 35.015625 27.484375 \nQ 23.96875 27.484375 18.671875 24.53125 \nQ 13.375 21.578125 13.375 15.375 \nQ 13.375 11.078125 16.078125 8.640625 \nQ 18.796875 6.203125 23.578125 6.203125 \nQ 30.90625 6.203125 36.375 11.453125 \nQ 41.84375 16.703125 43.609375 25.484375 \nz\n\" id=\"DejaVuSans-Oblique-97\"/>\n      <path d=\"M 59.625 54.6875 \nL 50.296875 6.78125 \nQ 47.609375 -7.125 40.015625 -13.953125 \nQ 32.421875 -20.796875 19.578125 -20.796875 \nQ 14.84375 -20.796875 10.78125 -20.09375 \nQ 6.734375 -19.390625 3.21875 -17.921875 \nL 4.890625 -9.1875 \nQ 8.203125 -11.328125 11.90625 -12.34375 \nQ 15.625 -13.375 19.828125 -13.375 \nQ 28.375 -13.375 33.859375 -8.703125 \nQ 39.359375 -4.046875 41.109375 4.6875 \nL 41.890625 8.796875 \nQ 38.140625 4.5 33.15625 2.25 \nQ 28.171875 0 22.40625 0 \nQ 14.109375 0 9.34375 5.484375 \nQ 4.59375 10.984375 4.59375 20.609375 \nQ 4.59375 28.171875 7.46875 35.421875 \nQ 10.359375 42.671875 15.578125 48.296875 \nQ 19.046875 52 23.65625 54 \nQ 28.265625 56 33.296875 56 \nQ 38.8125 56 42.90625 53.4375 \nQ 47.015625 50.875 49.03125 46.1875 \nL 50.59375 54.6875 \nz\nM 46.09375 34.625 \nQ 46.09375 41.265625 42.96875 44.875 \nQ 39.84375 48.484375 34.078125 48.484375 \nQ 30.515625 48.484375 27.296875 47.0625 \nQ 24.078125 45.65625 21.78125 43.109375 \nQ 18.0625 38.921875 15.984375 33.234375 \nQ 13.921875 27.546875 13.921875 21.484375 \nQ 13.921875 14.75 17.0625 11.125 \nQ 20.21875 7.515625 26.125 7.515625 \nQ 34.671875 7.515625 40.375 15.25 \nQ 46.09375 23 46.09375 34.625 \nz\n\" id=\"DejaVuSans-Oblique-103\"/>\n     </defs>\n     <use transform=\"translate(0 0.14375)\" xlink:href=\"#DejaVuSans-931\"/>\n     <use transform=\"translate(64.140625 51.810938)scale(0.7)\" xlink:href=\"#DejaVuSans-Oblique-100\"/>\n     <use transform=\"translate(108.574219 51.810938)scale(0.7)\" xlink:href=\"#DejaVuSans-Oblique-105\"/>\n     <use transform=\"translate(128.022461 51.810938)scale(0.7)\" xlink:href=\"#DejaVuSans-Oblique-97\"/>\n     <use transform=\"translate(170.917969 51.810938)scale(0.7)\" xlink:href=\"#DejaVuSans-Oblique-103\"/>\n     <use transform=\"translate(64.140625 -27.2)scale(0.7)\" xlink:href=\"#DejaVuSans-48\"/>\n    </g>\n   </g>\n  </g>\n  <g id=\"axes_4\">\n   <g clip-path=\"url(#pc64a59a7e9)\">\n    <image height=\"198\" id=\"imagee6378d6fbb\" transform=\"scale(1 -1)translate(0 -198)\" width=\"198\" x=\"250.690909\" xlink:href=\"data:image/png;base64,\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\" y=\"-259.17375\"/>\n   </g>\n   <g id=\"text_4\">\n    <!-- $\\Sigma_1^{diag}$ -->\n    <g transform=\"translate(336.387273 253.501023)scale(0.12 -0.12)\">\n     <use transform=\"translate(0 0.0625)\" xlink:href=\"#DejaVuSans-931\"/>\n     <use transform=\"translate(64.140625 50.810938)scale(0.7)\" xlink:href=\"#DejaVuSans-Oblique-100\"/>\n     <use transform=\"translate(108.574219 50.810938)scale(0.7)\" xlink:href=\"#DejaVuSans-Oblique-105\"/>\n     <use transform=\"translate(128.022461 50.810938)scale(0.7)\" xlink:href=\"#DejaVuSans-Oblique-97\"/>\n     <use transform=\"translate(170.917969 50.810938)scale(0.7)\" xlink:href=\"#DejaVuSans-Oblique-103\"/>\n     <use transform=\"translate(64.140625 -27.28125)scale(0.7)\" xlink:href=\"#DejaVuSans-49\"/>\n    </g>\n   </g>\n  </g>\n </g>\n <defs>\n  <clipPath id=\"pc7ed17ea34\">\n   <rect height=\"197.672727\" width=\"197.672727\" x=\"7.2\" y=\"22.29375\"/>\n  </clipPath>\n  <clipPath id=\"p931191eeea\">\n   <rect height=\"197.672727\" width=\"197.672727\" x=\"250.690909\" y=\"22.29375\"/>\n  </clipPath>\n  <clipPath id=\"p6316cb4ef6\">\n   <rect height=\"197.672727\" width=\"197.672727\" x=\"7.2\" y=\"259.501023\"/>\n  </clipPath>\n  <clipPath id=\"pc64a59a7e9\">\n   <rect height=\"197.672727\" width=\"197.672727\" x=\"250.690909\" y=\"259.501023\"/>\n  </clipPath>\n </defs>\n</svg>\n",
      "image/png": "[encoded data removed]"
     },
     "metadata": {
      "needs_background": "light"
     }
    }
   ],
   "source": [
    "# Emtpy lists\n",
    "mu_SMG = [None,None] # Mean\n",
    "sigma_SMG = [None,None] # Covariance \n",
    "\n",
    "# Train model\n",
    "mu_SMG[0] ,sigma_SMG[0] = fitSMG(X0_train)\n",
    "mu_SMG[1] ,sigma_SMG[1] = fitSMG(X1_train)\n",
    "\n",
    "# Convert vectors to images\n",
    "mu0_SMG_image = convertToImage(mu_SMG[0], nonface_model, nonface_avg, nonface_std)\n",
    "mu1_SMG_image = convertToImage(mu_SMG[1], face_model, face_avg, face_std)\n",
    "\n",
    "sigma0_SMG_image = convertToImage(sigma_SMG[0], nonface_model, nonface_avg, nonface_std, cov=True)\n",
    "sigma1_SMG_image = convertToImage(sigma_SMG[1], face_model, face_avg, face_std, cov=True)\n",
    "\n",
    "# Plot code\n",
    "fig, axes = plt.subplots(2,2, figsize=(8,8))\n",
    "[axi.axis('off') for axi in axes.flat] # hide axis\n",
    "\n",
    "axes[0,1].imshow(mu1_SMG_image)\n",
    "axes[0,1].set_title(r'$\\mu_1$')\n",
    "axes[0,0].imshow(mu0_SMG_image)\n",
    "axes[0,0].set_title(r'$\\mu_0$')\n",
    "axes[1,0].imshow(sigma0_SMG_image)\n",
    "axes[1,0].set_title(r'$\\Sigma_0^{diag}$')\n",
    "axes[1,1].imshow(sigma1_SMG_image)\n",
    "axes[1,1].set_title(r'$\\Sigma_1^{diag}$')\n",
    "\n"
   ]
  },
  {
   "source": [
    "Evaluate the learned model on the testing images using 0.5 as threshold for the posterior. Compute False Positive Rate (FPR), False Negative Rate (FNR) and the missclasification rate (MR)."
   ],
   "cell_type": "markdown",
   "metadata": {}
  },
  {
   "cell_type": "code",
   "execution_count": 8,
   "metadata": {},
   "outputs": [
    {
     "output_type": "stream",
     "name": "stdout",
     "text": [
      "False Positive Rate   :  0.16\nFalse Negative Rate   :  0.17\nMisclassification Rate:  0.165\n"
     ]
    }
   ],
   "source": [
    "threshold = 0.5 # detection threshold\n",
    "\n",
    "TP, FN = predictSMG( X1_test, np.ones(X1_test.shape[0]), mu_SMG, sigma_SMG, threshold)\n",
    "TN, FP = predictSMG( X0_test, np.zeros(X0_test.shape[0]), mu_SMG, sigma_SMG, threshold)\n",
    "\n",
    "# Compute rates\n",
    "FPR = FP / (FP+TN)\n",
    "FNR = FN / (TP+FN)\n",
    "MR = (FP + FN) / (X0_test.shape[0] + X1_test.shape[0])\n",
    "\n",
    "# Print results\n",
    "print(\"False Positive Rate   : \",round(FPR,3))\n",
    "print(\"False Negative Rate   : \",round(FNR,3))\n",
    "print(\"Misclassification Rate: \",round(MR,3))"
   ]
  },
  {
   "source": [
    "ROC curve"
   ],
   "cell_type": "markdown",
   "metadata": {}
  },
  {
   "cell_type": "code",
   "execution_count": 9,
   "metadata": {},
   "outputs": [
    {
     "output_type": "execute_result",
     "data": {
      "text/plain": [
       "Text(0.5, 1.0, 'ROC Curve Simple Gaussian Model')"
      ]
     },
     "metadata": {},
     "execution_count": 9
    },
    {
     "output_type": "display_data",
     "data": {
      "text/plain": "<Figure size 432x288 with 1 Axes>",
      "image/svg+xml": "<?xml version=\"1.0\" encoding=\"utf-8\" standalone=\"no\"?>\n<!DOCTYPE svg PUBLIC \"-//W3C//DTD SVG 1.1//EN\"\n  \"http://www.w3.org/Graphics/SVG/1.1/DTD/svg11.dtd\">\n<!-- Created with matplotlib (https://matplotlib.org/) -->\n<svg height=\"277.314375pt\" version=\"1.1\" viewBox=\"0 0 385.78125 277.314375\" width=\"385.78125pt\" xmlns=\"http://www.w3.org/2000/svg\" xmlns:xlink=\"http://www.w3.org/1999/xlink\">\n <metadata>\n  <rdf:RDF xmlns:cc=\"http://creativecommons.org/ns#\" xmlns:dc=\"http://purl.org/dc/elements/1.1/\" xmlns:rdf=\"http://www.w3.org/1999/02/22-rdf-syntax-ns#\">\n   <cc:Work>\n    <dc:type rdf:resource=\"http://purl.org/dc/dcmitype/StillImage\"/>\n    <dc:date>2021-02-27T17:41:56.293684</dc:date>\n    <dc:format>image/svg+xml</dc:format>\n    <dc:creator>\n     <cc:Agent>\n      <dc:title>Matplotlib v3.3.2, https://matplotlib.org/</dc:title>\n     </cc:Agent>\n    </dc:creator>\n   </cc:Work>\n  </rdf:RDF>\n </metadata>\n <defs>\n  <style type=\"text/css\">*{stroke-linecap:butt;stroke-linejoin:round;}</style>\n </defs>\n <g id=\"figure_1\">\n  <g id=\"patch_1\">\n   <path d=\"M 0 277.314375 \nL 385.78125 277.314375 \nL 385.78125 0 \nL 0 0 \nz\n\" style=\"fill:none;\"/>\n  </g>\n  <g id=\"axes_1\">\n   <g id=\"patch_2\">\n    <path d=\"M 43.78125 239.758125 \nL 378.58125 239.758125 \nL 378.58125 22.318125 \nL 43.78125 22.318125 \nz\n\" style=\"fill:#ffffff;\"/>\n   </g>\n   <g id=\"matplotlib.axis_1\">\n    <g id=\"xtick_1\">\n     <g id=\"line2d_1\">\n      <defs>\n       <path d=\"M 0 0 \nL 0 3.5 \n\" id=\"m256446526b\" style=\"stroke:#000000;stroke-width:0.8;\"/>\n      </defs>\n      <g>\n       <use style=\"stroke:#000000;stroke-width:0.8;\" x=\"58.999432\" xlink:href=\"#m256446526b\" y=\"239.758125\"/>\n      </g>\n     </g>\n     <g id=\"text_1\">\n      <!-- 0.0 -->\n      <g transform=\"translate(51.047869 254.356562)scale(0.1 -0.1)\">\n       <defs>\n        <path d=\"M 31.78125 66.40625 \nQ 24.171875 66.40625 20.328125 58.90625 \nQ 16.5 51.421875 16.5 36.375 \nQ 16.5 21.390625 20.328125 13.890625 \nQ 24.171875 6.390625 31.78125 6.390625 \nQ 39.453125 6.390625 43.28125 13.890625 \nQ 47.125 21.390625 47.125 36.375 \nQ 47.125 51.421875 43.28125 58.90625 \nQ 39.453125 66.40625 31.78125 66.40625 \nz\nM 31.78125 74.21875 \nQ 44.046875 74.21875 50.515625 64.515625 \nQ 56.984375 54.828125 56.984375 36.375 \nQ 56.984375 17.96875 50.515625 8.265625 \nQ 44.046875 -1.421875 31.78125 -1.421875 \nQ 19.53125 -1.421875 13.0625 8.265625 \nQ 6.59375 17.96875 6.59375 36.375 \nQ 6.59375 54.828125 13.0625 64.515625 \nQ 19.53125 74.21875 31.78125 74.21875 \nz\n\" id=\"DejaVuSans-48\"/>\n        <path d=\"M 10.6875 12.40625 \nL 21 12.40625 \nL 21 0 \nL 10.6875 0 \nz\n\" id=\"DejaVuSans-46\"/>\n       </defs>\n       <use xlink:href=\"#DejaVuSans-48\"/>\n       <use x=\"63.623047\" xlink:href=\"#DejaVuSans-46\"/>\n       <use x=\"95.410156\" xlink:href=\"#DejaVuSans-48\"/>\n      </g>\n     </g>\n    </g>\n    <g id=\"xtick_2\">\n     <g id=\"line2d_2\">\n      <g>\n       <use style=\"stroke:#000000;stroke-width:0.8;\" x=\"119.872159\" xlink:href=\"#m256446526b\" y=\"239.758125\"/>\n      </g>\n     </g>\n     <g id=\"text_2\">\n      <!-- 0.2 -->\n      <g transform=\"translate(111.920597 254.356562)scale(0.1 -0.1)\">\n       <defs>\n        <path d=\"M 19.1875 8.296875 \nL 53.609375 8.296875 \nL 53.609375 0 \nL 7.328125 0 \nL 7.328125 8.296875 \nQ 12.9375 14.109375 22.625 23.890625 \nQ 32.328125 33.6875 34.8125 36.53125 \nQ 39.546875 41.84375 41.421875 45.53125 \nQ 43.3125 49.21875 43.3125 52.78125 \nQ 43.3125 58.59375 39.234375 62.25 \nQ 35.15625 65.921875 28.609375 65.921875 \nQ 23.96875 65.921875 18.8125 64.3125 \nQ 13.671875 62.703125 7.8125 59.421875 \nL 7.8125 69.390625 \nQ 13.765625 71.78125 18.9375 73 \nQ 24.125 74.21875 28.421875 74.21875 \nQ 39.75 74.21875 46.484375 68.546875 \nQ 53.21875 62.890625 53.21875 53.421875 \nQ 53.21875 48.921875 51.53125 44.890625 \nQ 49.859375 40.875 45.40625 35.40625 \nQ 44.1875 33.984375 37.640625 27.21875 \nQ 31.109375 20.453125 19.1875 8.296875 \nz\n\" id=\"DejaVuSans-50\"/>\n       </defs>\n       <use xlink:href=\"#DejaVuSans-48\"/>\n       <use x=\"63.623047\" xlink:href=\"#DejaVuSans-46\"/>\n       <use x=\"95.410156\" xlink:href=\"#DejaVuSans-50\"/>\n      </g>\n     </g>\n    </g>\n    <g id=\"xtick_3\">\n     <g id=\"line2d_3\">\n      <g>\n       <use style=\"stroke:#000000;stroke-width:0.8;\" x=\"180.744886\" xlink:href=\"#m256446526b\" y=\"239.758125\"/>\n      </g>\n     </g>\n     <g id=\"text_3\">\n      <!-- 0.4 -->\n      <g transform=\"translate(172.793324 254.356562)scale(0.1 -0.1)\">\n       <defs>\n        <path d=\"M 37.796875 64.3125 \nL 12.890625 25.390625 \nL 37.796875 25.390625 \nz\nM 35.203125 72.90625 \nL 47.609375 72.90625 \nL 47.609375 25.390625 \nL 58.015625 25.390625 \nL 58.015625 17.1875 \nL 47.609375 17.1875 \nL 47.609375 0 \nL 37.796875 0 \nL 37.796875 17.1875 \nL 4.890625 17.1875 \nL 4.890625 26.703125 \nz\n\" id=\"DejaVuSans-52\"/>\n       </defs>\n       <use xlink:href=\"#DejaVuSans-48\"/>\n       <use x=\"63.623047\" xlink:href=\"#DejaVuSans-46\"/>\n       <use x=\"95.410156\" xlink:href=\"#DejaVuSans-52\"/>\n      </g>\n     </g>\n    </g>\n    <g id=\"xtick_4\">\n     <g id=\"line2d_4\">\n      <g>\n       <use style=\"stroke:#000000;stroke-width:0.8;\" x=\"241.617614\" xlink:href=\"#m256446526b\" y=\"239.758125\"/>\n      </g>\n     </g>\n     <g id=\"text_4\">\n      <!-- 0.6 -->\n      <g transform=\"translate(233.666051 254.356562)scale(0.1 -0.1)\">\n       <defs>\n        <path d=\"M 33.015625 40.375 \nQ 26.375 40.375 22.484375 35.828125 \nQ 18.609375 31.296875 18.609375 23.390625 \nQ 18.609375 15.53125 22.484375 10.953125 \nQ 26.375 6.390625 33.015625 6.390625 \nQ 39.65625 6.390625 43.53125 10.953125 \nQ 47.40625 15.53125 47.40625 23.390625 \nQ 47.40625 31.296875 43.53125 35.828125 \nQ 39.65625 40.375 33.015625 40.375 \nz\nM 52.59375 71.296875 \nL 52.59375 62.3125 \nQ 48.875 64.0625 45.09375 64.984375 \nQ 41.3125 65.921875 37.59375 65.921875 \nQ 27.828125 65.921875 22.671875 59.328125 \nQ 17.53125 52.734375 16.796875 39.40625 \nQ 19.671875 43.65625 24.015625 45.921875 \nQ 28.375 48.1875 33.59375 48.1875 \nQ 44.578125 48.1875 50.953125 41.515625 \nQ 57.328125 34.859375 57.328125 23.390625 \nQ 57.328125 12.15625 50.6875 5.359375 \nQ 44.046875 -1.421875 33.015625 -1.421875 \nQ 20.359375 -1.421875 13.671875 8.265625 \nQ 6.984375 17.96875 6.984375 36.375 \nQ 6.984375 53.65625 15.1875 63.9375 \nQ 23.390625 74.21875 37.203125 74.21875 \nQ 40.921875 74.21875 44.703125 73.484375 \nQ 48.484375 72.75 52.59375 71.296875 \nz\n\" id=\"DejaVuSans-54\"/>\n       </defs>\n       <use xlink:href=\"#DejaVuSans-48\"/>\n       <use x=\"63.623047\" xlink:href=\"#DejaVuSans-46\"/>\n       <use x=\"95.410156\" xlink:href=\"#DejaVuSans-54\"/>\n      </g>\n     </g>\n    </g>\n    <g id=\"xtick_5\">\n     <g id=\"line2d_5\">\n      <g>\n       <use style=\"stroke:#000000;stroke-width:0.8;\" x=\"302.490341\" xlink:href=\"#m256446526b\" y=\"239.758125\"/>\n      </g>\n     </g>\n     <g id=\"text_5\">\n      <!-- 0.8 -->\n      <g transform=\"translate(294.538778 254.356562)scale(0.1 -0.1)\">\n       <defs>\n        <path d=\"M 31.78125 34.625 \nQ 24.75 34.625 20.71875 30.859375 \nQ 16.703125 27.09375 16.703125 20.515625 \nQ 16.703125 13.921875 20.71875 10.15625 \nQ 24.75 6.390625 31.78125 6.390625 \nQ 38.8125 6.390625 42.859375 10.171875 \nQ 46.921875 13.96875 46.921875 20.515625 \nQ 46.921875 27.09375 42.890625 30.859375 \nQ 38.875 34.625 31.78125 34.625 \nz\nM 21.921875 38.8125 \nQ 15.578125 40.375 12.03125 44.71875 \nQ 8.5 49.078125 8.5 55.328125 \nQ 8.5 64.0625 14.71875 69.140625 \nQ 20.953125 74.21875 31.78125 74.21875 \nQ 42.671875 74.21875 48.875 69.140625 \nQ 55.078125 64.0625 55.078125 55.328125 \nQ 55.078125 49.078125 51.53125 44.71875 \nQ 48 40.375 41.703125 38.8125 \nQ 48.828125 37.15625 52.796875 32.3125 \nQ 56.78125 27.484375 56.78125 20.515625 \nQ 56.78125 9.90625 50.3125 4.234375 \nQ 43.84375 -1.421875 31.78125 -1.421875 \nQ 19.734375 -1.421875 13.25 4.234375 \nQ 6.78125 9.90625 6.78125 20.515625 \nQ 6.78125 27.484375 10.78125 32.3125 \nQ 14.796875 37.15625 21.921875 38.8125 \nz\nM 18.3125 54.390625 \nQ 18.3125 48.734375 21.84375 45.5625 \nQ 25.390625 42.390625 31.78125 42.390625 \nQ 38.140625 42.390625 41.71875 45.5625 \nQ 45.3125 48.734375 45.3125 54.390625 \nQ 45.3125 60.0625 41.71875 63.234375 \nQ 38.140625 66.40625 31.78125 66.40625 \nQ 25.390625 66.40625 21.84375 63.234375 \nQ 18.3125 60.0625 18.3125 54.390625 \nz\n\" id=\"DejaVuSans-56\"/>\n       </defs>\n       <use xlink:href=\"#DejaVuSans-48\"/>\n       <use x=\"63.623047\" xlink:href=\"#DejaVuSans-46\"/>\n       <use x=\"95.410156\" xlink:href=\"#DejaVuSans-56\"/>\n      </g>\n     </g>\n    </g>\n    <g id=\"xtick_6\">\n     <g id=\"line2d_6\">\n      <g>\n       <use style=\"stroke:#000000;stroke-width:0.8;\" x=\"363.363068\" xlink:href=\"#m256446526b\" y=\"239.758125\"/>\n      </g>\n     </g>\n     <g id=\"text_6\">\n      <!-- 1.0 -->\n      <g transform=\"translate(355.411506 254.356562)scale(0.1 -0.1)\">\n       <defs>\n        <path d=\"M 12.40625 8.296875 \nL 28.515625 8.296875 \nL 28.515625 63.921875 \nL 10.984375 60.40625 \nL 10.984375 69.390625 \nL 28.421875 72.90625 \nL 38.28125 72.90625 \nL 38.28125 8.296875 \nL 54.390625 8.296875 \nL 54.390625 0 \nL 12.40625 0 \nz\n\" id=\"DejaVuSans-49\"/>\n       </defs>\n       <use xlink:href=\"#DejaVuSans-49\"/>\n       <use x=\"63.623047\" xlink:href=\"#DejaVuSans-46\"/>\n       <use x=\"95.410156\" xlink:href=\"#DejaVuSans-48\"/>\n      </g>\n     </g>\n    </g>\n    <g id=\"text_7\">\n     <!-- False Positive Rate -->\n     <g transform=\"translate(164.714844 268.034687)scale(0.1 -0.1)\">\n      <defs>\n       <path d=\"M 9.8125 72.90625 \nL 51.703125 72.90625 \nL 51.703125 64.59375 \nL 19.671875 64.59375 \nL 19.671875 43.109375 \nL 48.578125 43.109375 \nL 48.578125 34.8125 \nL 19.671875 34.8125 \nL 19.671875 0 \nL 9.8125 0 \nz\n\" id=\"DejaVuSans-70\"/>\n       <path d=\"M 34.28125 27.484375 \nQ 23.390625 27.484375 19.1875 25 \nQ 14.984375 22.515625 14.984375 16.5 \nQ 14.984375 11.71875 18.140625 8.90625 \nQ 21.296875 6.109375 26.703125 6.109375 \nQ 34.1875 6.109375 38.703125 11.40625 \nQ 43.21875 16.703125 43.21875 25.484375 \nL 43.21875 27.484375 \nz\nM 52.203125 31.203125 \nL 52.203125 0 \nL 43.21875 0 \nL 43.21875 8.296875 \nQ 40.140625 3.328125 35.546875 0.953125 \nQ 30.953125 -1.421875 24.3125 -1.421875 \nQ 15.921875 -1.421875 10.953125 3.296875 \nQ 6 8.015625 6 15.921875 \nQ 6 25.140625 12.171875 29.828125 \nQ 18.359375 34.515625 30.609375 34.515625 \nL 43.21875 34.515625 \nL 43.21875 35.40625 \nQ 43.21875 41.609375 39.140625 45 \nQ 35.0625 48.390625 27.6875 48.390625 \nQ 23 48.390625 18.546875 47.265625 \nQ 14.109375 46.140625 10.015625 43.890625 \nL 10.015625 52.203125 \nQ 14.9375 54.109375 19.578125 55.046875 \nQ 24.21875 56 28.609375 56 \nQ 40.484375 56 46.34375 49.84375 \nQ 52.203125 43.703125 52.203125 31.203125 \nz\n\" id=\"DejaVuSans-97\"/>\n       <path d=\"M 9.421875 75.984375 \nL 18.40625 75.984375 \nL 18.40625 0 \nL 9.421875 0 \nz\n\" id=\"DejaVuSans-108\"/>\n       <path d=\"M 44.28125 53.078125 \nL 44.28125 44.578125 \nQ 40.484375 46.53125 36.375 47.5 \nQ 32.28125 48.484375 27.875 48.484375 \nQ 21.1875 48.484375 17.84375 46.4375 \nQ 14.5 44.390625 14.5 40.28125 \nQ 14.5 37.15625 16.890625 35.375 \nQ 19.28125 33.59375 26.515625 31.984375 \nL 29.59375 31.296875 \nQ 39.15625 29.25 43.1875 25.515625 \nQ 47.21875 21.78125 47.21875 15.09375 \nQ 47.21875 7.46875 41.1875 3.015625 \nQ 35.15625 -1.421875 24.609375 -1.421875 \nQ 20.21875 -1.421875 15.453125 -0.5625 \nQ 10.6875 0.296875 5.421875 2 \nL 5.421875 11.28125 \nQ 10.40625 8.6875 15.234375 7.390625 \nQ 20.0625 6.109375 24.8125 6.109375 \nQ 31.15625 6.109375 34.5625 8.28125 \nQ 37.984375 10.453125 37.984375 14.40625 \nQ 37.984375 18.0625 35.515625 20.015625 \nQ 33.0625 21.96875 24.703125 23.78125 \nL 21.578125 24.515625 \nQ 13.234375 26.265625 9.515625 29.90625 \nQ 5.8125 33.546875 5.8125 39.890625 \nQ 5.8125 47.609375 11.28125 51.796875 \nQ 16.75 56 26.8125 56 \nQ 31.78125 56 36.171875 55.265625 \nQ 40.578125 54.546875 44.28125 53.078125 \nz\n\" id=\"DejaVuSans-115\"/>\n       <path d=\"M 56.203125 29.59375 \nL 56.203125 25.203125 \nL 14.890625 25.203125 \nQ 15.484375 15.921875 20.484375 11.0625 \nQ 25.484375 6.203125 34.421875 6.203125 \nQ 39.59375 6.203125 44.453125 7.46875 \nQ 49.3125 8.734375 54.109375 11.28125 \nL 54.109375 2.78125 \nQ 49.265625 0.734375 44.1875 -0.34375 \nQ 39.109375 -1.421875 33.890625 -1.421875 \nQ 20.796875 -1.421875 13.15625 6.1875 \nQ 5.515625 13.8125 5.515625 26.8125 \nQ 5.515625 40.234375 12.765625 48.109375 \nQ 20.015625 56 32.328125 56 \nQ 43.359375 56 49.78125 48.890625 \nQ 56.203125 41.796875 56.203125 29.59375 \nz\nM 47.21875 32.234375 \nQ 47.125 39.59375 43.09375 43.984375 \nQ 39.0625 48.390625 32.421875 48.390625 \nQ 24.90625 48.390625 20.390625 44.140625 \nQ 15.875 39.890625 15.1875 32.171875 \nz\n\" id=\"DejaVuSans-101\"/>\n       <path id=\"DejaVuSans-32\"/>\n       <path d=\"M 19.671875 64.796875 \nL 19.671875 37.40625 \nL 32.078125 37.40625 \nQ 38.96875 37.40625 42.71875 40.96875 \nQ 46.484375 44.53125 46.484375 51.125 \nQ 46.484375 57.671875 42.71875 61.234375 \nQ 38.96875 64.796875 32.078125 64.796875 \nz\nM 9.8125 72.90625 \nL 32.078125 72.90625 \nQ 44.34375 72.90625 50.609375 67.359375 \nQ 56.890625 61.8125 56.890625 51.125 \nQ 56.890625 40.328125 50.609375 34.8125 \nQ 44.34375 29.296875 32.078125 29.296875 \nL 19.671875 29.296875 \nL 19.671875 0 \nL 9.8125 0 \nz\n\" id=\"DejaVuSans-80\"/>\n       <path d=\"M 30.609375 48.390625 \nQ 23.390625 48.390625 19.1875 42.75 \nQ 14.984375 37.109375 14.984375 27.296875 \nQ 14.984375 17.484375 19.15625 11.84375 \nQ 23.34375 6.203125 30.609375 6.203125 \nQ 37.796875 6.203125 41.984375 11.859375 \nQ 46.1875 17.53125 46.1875 27.296875 \nQ 46.1875 37.015625 41.984375 42.703125 \nQ 37.796875 48.390625 30.609375 48.390625 \nz\nM 30.609375 56 \nQ 42.328125 56 49.015625 48.375 \nQ 55.71875 40.765625 55.71875 27.296875 \nQ 55.71875 13.875 49.015625 6.21875 \nQ 42.328125 -1.421875 30.609375 -1.421875 \nQ 18.84375 -1.421875 12.171875 6.21875 \nQ 5.515625 13.875 5.515625 27.296875 \nQ 5.515625 40.765625 12.171875 48.375 \nQ 18.84375 56 30.609375 56 \nz\n\" id=\"DejaVuSans-111\"/>\n       <path d=\"M 9.421875 54.6875 \nL 18.40625 54.6875 \nL 18.40625 0 \nL 9.421875 0 \nz\nM 9.421875 75.984375 \nL 18.40625 75.984375 \nL 18.40625 64.59375 \nL 9.421875 64.59375 \nz\n\" id=\"DejaVuSans-105\"/>\n       <path d=\"M 18.3125 70.21875 \nL 18.3125 54.6875 \nL 36.8125 54.6875 \nL 36.8125 47.703125 \nL 18.3125 47.703125 \nL 18.3125 18.015625 \nQ 18.3125 11.328125 20.140625 9.421875 \nQ 21.96875 7.515625 27.59375 7.515625 \nL 36.8125 7.515625 \nL 36.8125 0 \nL 27.59375 0 \nQ 17.1875 0 13.234375 3.875 \nQ 9.28125 7.765625 9.28125 18.015625 \nL 9.28125 47.703125 \nL 2.6875 47.703125 \nL 2.6875 54.6875 \nL 9.28125 54.6875 \nL 9.28125 70.21875 \nz\n\" id=\"DejaVuSans-116\"/>\n       <path d=\"M 2.984375 54.6875 \nL 12.5 54.6875 \nL 29.59375 8.796875 \nL 46.6875 54.6875 \nL 56.203125 54.6875 \nL 35.6875 0 \nL 23.484375 0 \nz\n\" id=\"DejaVuSans-118\"/>\n       <path d=\"M 44.390625 34.1875 \nQ 47.5625 33.109375 50.5625 29.59375 \nQ 53.5625 26.078125 56.59375 19.921875 \nL 66.609375 0 \nL 56 0 \nL 46.6875 18.703125 \nQ 43.0625 26.03125 39.671875 28.421875 \nQ 36.28125 30.8125 30.421875 30.8125 \nL 19.671875 30.8125 \nL 19.671875 0 \nL 9.8125 0 \nL 9.8125 72.90625 \nL 32.078125 72.90625 \nQ 44.578125 72.90625 50.734375 67.671875 \nQ 56.890625 62.453125 56.890625 51.90625 \nQ 56.890625 45.015625 53.6875 40.46875 \nQ 50.484375 35.9375 44.390625 34.1875 \nz\nM 19.671875 64.796875 \nL 19.671875 38.921875 \nL 32.078125 38.921875 \nQ 39.203125 38.921875 42.84375 42.21875 \nQ 46.484375 45.515625 46.484375 51.90625 \nQ 46.484375 58.296875 42.84375 61.546875 \nQ 39.203125 64.796875 32.078125 64.796875 \nz\n\" id=\"DejaVuSans-82\"/>\n      </defs>\n      <use xlink:href=\"#DejaVuSans-70\"/>\n      <use x=\"48.394531\" xlink:href=\"#DejaVuSans-97\"/>\n      <use x=\"109.673828\" xlink:href=\"#DejaVuSans-108\"/>\n      <use x=\"137.457031\" xlink:href=\"#DejaVuSans-115\"/>\n      <use x=\"189.556641\" xlink:href=\"#DejaVuSans-101\"/>\n      <use x=\"251.080078\" xlink:href=\"#DejaVuSans-32\"/>\n      <use x=\"282.867188\" xlink:href=\"#DejaVuSans-80\"/>\n      <use x=\"339.544922\" xlink:href=\"#DejaVuSans-111\"/>\n      <use x=\"400.726562\" xlink:href=\"#DejaVuSans-115\"/>\n      <use x=\"452.826172\" xlink:href=\"#DejaVuSans-105\"/>\n      <use x=\"480.609375\" xlink:href=\"#DejaVuSans-116\"/>\n      <use x=\"519.818359\" xlink:href=\"#DejaVuSans-105\"/>\n      <use x=\"547.601562\" xlink:href=\"#DejaVuSans-118\"/>\n      <use x=\"606.78125\" xlink:href=\"#DejaVuSans-101\"/>\n      <use x=\"668.304688\" xlink:href=\"#DejaVuSans-32\"/>\n      <use x=\"700.091797\" xlink:href=\"#DejaVuSans-82\"/>\n      <use x=\"767.324219\" xlink:href=\"#DejaVuSans-97\"/>\n      <use x=\"828.603516\" xlink:href=\"#DejaVuSans-116\"/>\n      <use x=\"867.8125\" xlink:href=\"#DejaVuSans-101\"/>\n     </g>\n    </g>\n   </g>\n   <g id=\"matplotlib.axis_2\">\n    <g id=\"ytick_1\">\n     <g id=\"line2d_7\">\n      <defs>\n       <path d=\"M 0 0 \nL -3.5 0 \n\" id=\"mdf327e1cb3\" style=\"stroke:#000000;stroke-width:0.8;\"/>\n      </defs>\n      <g>\n       <use style=\"stroke:#000000;stroke-width:0.8;\" x=\"43.78125\" xlink:href=\"#mdf327e1cb3\" y=\"200.43387\"/>\n      </g>\n     </g>\n     <g id=\"text_8\">\n      <!-- 0.2 -->\n      <g transform=\"translate(20.878125 204.233088)scale(0.1 -0.1)\">\n       <use xlink:href=\"#DejaVuSans-48\"/>\n       <use x=\"63.623047\" xlink:href=\"#DejaVuSans-46\"/>\n       <use x=\"95.410156\" xlink:href=\"#DejaVuSans-50\"/>\n      </g>\n     </g>\n    </g>\n    <g id=\"ytick_2\">\n     <g id=\"line2d_8\">\n      <g>\n       <use style=\"stroke:#000000;stroke-width:0.8;\" x=\"43.78125\" xlink:href=\"#mdf327e1cb3\" y=\"158.375843\"/>\n      </g>\n     </g>\n     <g id=\"text_9\">\n      <!-- 0.4 -->\n      <g transform=\"translate(20.878125 162.175061)scale(0.1 -0.1)\">\n       <use xlink:href=\"#DejaVuSans-48\"/>\n       <use x=\"63.623047\" xlink:href=\"#DejaVuSans-46\"/>\n       <use x=\"95.410156\" xlink:href=\"#DejaVuSans-52\"/>\n      </g>\n     </g>\n    </g>\n    <g id=\"ytick_3\">\n     <g id=\"line2d_9\">\n      <g>\n       <use style=\"stroke:#000000;stroke-width:0.8;\" x=\"43.78125\" xlink:href=\"#mdf327e1cb3\" y=\"116.317816\"/>\n      </g>\n     </g>\n     <g id=\"text_10\">\n      <!-- 0.6 -->\n      <g transform=\"translate(20.878125 120.117034)scale(0.1 -0.1)\">\n       <use xlink:href=\"#DejaVuSans-48\"/>\n       <use x=\"63.623047\" xlink:href=\"#DejaVuSans-46\"/>\n       <use x=\"95.410156\" xlink:href=\"#DejaVuSans-54\"/>\n      </g>\n     </g>\n    </g>\n    <g id=\"ytick_4\">\n     <g id=\"line2d_10\">\n      <g>\n       <use style=\"stroke:#000000;stroke-width:0.8;\" x=\"43.78125\" xlink:href=\"#mdf327e1cb3\" y=\"74.259788\"/>\n      </g>\n     </g>\n     <g id=\"text_11\">\n      <!-- 0.8 -->\n      <g transform=\"translate(20.878125 78.059007)scale(0.1 -0.1)\">\n       <use xlink:href=\"#DejaVuSans-48\"/>\n       <use x=\"63.623047\" xlink:href=\"#DejaVuSans-46\"/>\n       <use x=\"95.410156\" xlink:href=\"#DejaVuSans-56\"/>\n      </g>\n     </g>\n    </g>\n    <g id=\"ytick_5\">\n     <g id=\"line2d_11\">\n      <g>\n       <use style=\"stroke:#000000;stroke-width:0.8;\" x=\"43.78125\" xlink:href=\"#mdf327e1cb3\" y=\"32.201761\"/>\n      </g>\n     </g>\n     <g id=\"text_12\">\n      <!-- 1.0 -->\n      <g transform=\"translate(20.878125 36.00098)scale(0.1 -0.1)\">\n       <use xlink:href=\"#DejaVuSans-49\"/>\n       <use x=\"63.623047\" xlink:href=\"#DejaVuSans-46\"/>\n       <use x=\"95.410156\" xlink:href=\"#DejaVuSans-48\"/>\n      </g>\n     </g>\n    </g>\n    <g id=\"text_13\">\n     <!-- True Positive Rate -->\n     <g transform=\"translate(14.798438 175.567812)rotate(-90)scale(0.1 -0.1)\">\n      <defs>\n       <path d=\"M -0.296875 72.90625 \nL 61.375 72.90625 \nL 61.375 64.59375 \nL 35.5 64.59375 \nL 35.5 0 \nL 25.59375 0 \nL 25.59375 64.59375 \nL -0.296875 64.59375 \nz\n\" id=\"DejaVuSans-84\"/>\n       <path d=\"M 41.109375 46.296875 \nQ 39.59375 47.171875 37.8125 47.578125 \nQ 36.03125 48 33.890625 48 \nQ 26.265625 48 22.1875 43.046875 \nQ 18.109375 38.09375 18.109375 28.8125 \nL 18.109375 0 \nL 9.078125 0 \nL 9.078125 54.6875 \nL 18.109375 54.6875 \nL 18.109375 46.1875 \nQ 20.953125 51.171875 25.484375 53.578125 \nQ 30.03125 56 36.53125 56 \nQ 37.453125 56 38.578125 55.875 \nQ 39.703125 55.765625 41.0625 55.515625 \nz\n\" id=\"DejaVuSans-114\"/>\n       <path d=\"M 8.5 21.578125 \nL 8.5 54.6875 \nL 17.484375 54.6875 \nL 17.484375 21.921875 \nQ 17.484375 14.15625 20.5 10.265625 \nQ 23.53125 6.390625 29.59375 6.390625 \nQ 36.859375 6.390625 41.078125 11.03125 \nQ 45.3125 15.671875 45.3125 23.6875 \nL 45.3125 54.6875 \nL 54.296875 54.6875 \nL 54.296875 0 \nL 45.3125 0 \nL 45.3125 8.40625 \nQ 42.046875 3.421875 37.71875 1 \nQ 33.40625 -1.421875 27.6875 -1.421875 \nQ 18.265625 -1.421875 13.375 4.4375 \nQ 8.5 10.296875 8.5 21.578125 \nz\nM 31.109375 56 \nz\n\" id=\"DejaVuSans-117\"/>\n      </defs>\n      <use xlink:href=\"#DejaVuSans-84\"/>\n      <use x=\"46.333984\" xlink:href=\"#DejaVuSans-114\"/>\n      <use x=\"87.447266\" xlink:href=\"#DejaVuSans-117\"/>\n      <use x=\"150.826172\" xlink:href=\"#DejaVuSans-101\"/>\n      <use x=\"212.349609\" xlink:href=\"#DejaVuSans-32\"/>\n      <use x=\"244.136719\" xlink:href=\"#DejaVuSans-80\"/>\n      <use x=\"300.814453\" xlink:href=\"#DejaVuSans-111\"/>\n      <use x=\"361.996094\" xlink:href=\"#DejaVuSans-115\"/>\n      <use x=\"414.095703\" xlink:href=\"#DejaVuSans-105\"/>\n      <use x=\"441.878906\" xlink:href=\"#DejaVuSans-116\"/>\n      <use x=\"481.087891\" xlink:href=\"#DejaVuSans-105\"/>\n      <use x=\"508.871094\" xlink:href=\"#DejaVuSans-118\"/>\n      <use x=\"568.050781\" xlink:href=\"#DejaVuSans-101\"/>\n      <use x=\"629.574219\" xlink:href=\"#DejaVuSans-32\"/>\n      <use x=\"661.361328\" xlink:href=\"#DejaVuSans-82\"/>\n      <use x=\"728.59375\" xlink:href=\"#DejaVuSans-97\"/>\n      <use x=\"789.873047\" xlink:href=\"#DejaVuSans-116\"/>\n      <use x=\"829.082031\" xlink:href=\"#DejaVuSans-101\"/>\n     </g>\n    </g>\n   </g>\n   <g id=\"line2d_12\">\n    <path clip-path=\"url(#pb8a9738f41)\" d=\"M 363.363068 32.201761 \nL 165.526705 32.201761 \nL 162.483068 34.304663 \nL 125.959432 34.304663 \nL 125.959432 36.407564 \nL 125.959432 36.407564 \nL 122.915795 36.407564 \nL 122.915795 36.407564 \nL 122.915795 40.613367 \nL 122.915795 40.613367 \nL 119.872159 40.613367 \nL 119.872159 40.613367 \nL 119.872159 51.127874 \nL 119.872159 51.127874 \nL 116.828523 51.127874 \nL 116.828523 51.127874 \nL 116.828523 59.539479 \nL 116.828523 59.539479 \nL 107.697614 59.539479 \nL 107.697614 59.539479 \nL 107.697614 67.951084 \nL 107.697614 67.951084 \nL 104.653977 67.951084 \nL 104.653977 67.951084 \nL 104.653977 80.568493 \nL 104.653977 80.568493 \nL 101.610341 80.568493 \nL 101.610341 80.568493 \nL 101.610341 82.671394 \nL 101.610341 82.671394 \nL 95.523068 82.671394 \nL 95.523068 82.671394 \nL 95.523068 99.494605 \nL 95.523068 99.494605 \nL 92.479432 99.494605 \nL 92.479432 99.494605 \nL 92.479432 118.420717 \nL 89.435795 120.523618 \nL 89.435795 145.758434 \nL 58.999432 229.874489 \nL 58.999432 229.874489 \n\" style=\"fill:none;stroke:#1f77b4;stroke-linecap:square;stroke-width:1.5;\"/>\n   </g>\n   <g id=\"patch_3\">\n    <path d=\"M 43.78125 239.758125 \nL 43.78125 22.318125 \n\" style=\"fill:none;stroke:#000000;stroke-linecap:square;stroke-linejoin:miter;stroke-width:0.8;\"/>\n   </g>\n   <g id=\"patch_4\">\n    <path d=\"M 378.58125 239.758125 \nL 378.58125 22.318125 \n\" style=\"fill:none;stroke:#000000;stroke-linecap:square;stroke-linejoin:miter;stroke-width:0.8;\"/>\n   </g>\n   <g id=\"patch_5\">\n    <path d=\"M 43.78125 239.758125 \nL 378.58125 239.758125 \n\" style=\"fill:none;stroke:#000000;stroke-linecap:square;stroke-linejoin:miter;stroke-width:0.8;\"/>\n   </g>\n   <g id=\"patch_6\">\n    <path d=\"M 43.78125 22.318125 \nL 378.58125 22.318125 \n\" style=\"fill:none;stroke:#000000;stroke-linecap:square;stroke-linejoin:miter;stroke-width:0.8;\"/>\n   </g>\n   <g id=\"text_14\">\n    <!-- ROC Curve Simple Gaussian Model -->\n    <g transform=\"translate(106.74 16.318125)scale(0.12 -0.12)\">\n     <defs>\n      <path d=\"M 39.40625 66.21875 \nQ 28.65625 66.21875 22.328125 58.203125 \nQ 16.015625 50.203125 16.015625 36.375 \nQ 16.015625 22.609375 22.328125 14.59375 \nQ 28.65625 6.59375 39.40625 6.59375 \nQ 50.140625 6.59375 56.421875 14.59375 \nQ 62.703125 22.609375 62.703125 36.375 \nQ 62.703125 50.203125 56.421875 58.203125 \nQ 50.140625 66.21875 39.40625 66.21875 \nz\nM 39.40625 74.21875 \nQ 54.734375 74.21875 63.90625 63.9375 \nQ 73.09375 53.65625 73.09375 36.375 \nQ 73.09375 19.140625 63.90625 8.859375 \nQ 54.734375 -1.421875 39.40625 -1.421875 \nQ 24.03125 -1.421875 14.8125 8.828125 \nQ 5.609375 19.09375 5.609375 36.375 \nQ 5.609375 53.65625 14.8125 63.9375 \nQ 24.03125 74.21875 39.40625 74.21875 \nz\n\" id=\"DejaVuSans-79\"/>\n      <path d=\"M 64.40625 67.28125 \nL 64.40625 56.890625 \nQ 59.421875 61.53125 53.78125 63.8125 \nQ 48.140625 66.109375 41.796875 66.109375 \nQ 29.296875 66.109375 22.65625 58.46875 \nQ 16.015625 50.828125 16.015625 36.375 \nQ 16.015625 21.96875 22.65625 14.328125 \nQ 29.296875 6.6875 41.796875 6.6875 \nQ 48.140625 6.6875 53.78125 8.984375 \nQ 59.421875 11.28125 64.40625 15.921875 \nL 64.40625 5.609375 \nQ 59.234375 2.09375 53.4375 0.328125 \nQ 47.65625 -1.421875 41.21875 -1.421875 \nQ 24.65625 -1.421875 15.125 8.703125 \nQ 5.609375 18.84375 5.609375 36.375 \nQ 5.609375 53.953125 15.125 64.078125 \nQ 24.65625 74.21875 41.21875 74.21875 \nQ 47.75 74.21875 53.53125 72.484375 \nQ 59.328125 70.75 64.40625 67.28125 \nz\n\" id=\"DejaVuSans-67\"/>\n      <path d=\"M 53.515625 70.515625 \nL 53.515625 60.890625 \nQ 47.90625 63.578125 42.921875 64.890625 \nQ 37.9375 66.21875 33.296875 66.21875 \nQ 25.25 66.21875 20.875 63.09375 \nQ 16.5 59.96875 16.5 54.203125 \nQ 16.5 49.359375 19.40625 46.890625 \nQ 22.3125 44.4375 30.421875 42.921875 \nL 36.375 41.703125 \nQ 47.40625 39.59375 52.65625 34.296875 \nQ 57.90625 29 57.90625 20.125 \nQ 57.90625 9.515625 50.796875 4.046875 \nQ 43.703125 -1.421875 29.984375 -1.421875 \nQ 24.8125 -1.421875 18.96875 -0.25 \nQ 13.140625 0.921875 6.890625 3.21875 \nL 6.890625 13.375 \nQ 12.890625 10.015625 18.65625 8.296875 \nQ 24.421875 6.59375 29.984375 6.59375 \nQ 38.421875 6.59375 43.015625 9.90625 \nQ 47.609375 13.234375 47.609375 19.390625 \nQ 47.609375 24.75 44.3125 27.78125 \nQ 41.015625 30.8125 33.5 32.328125 \nL 27.484375 33.5 \nQ 16.453125 35.6875 11.515625 40.375 \nQ 6.59375 45.0625 6.59375 53.421875 \nQ 6.59375 63.09375 13.40625 68.65625 \nQ 20.21875 74.21875 32.171875 74.21875 \nQ 37.3125 74.21875 42.625 73.28125 \nQ 47.953125 72.359375 53.515625 70.515625 \nz\n\" id=\"DejaVuSans-83\"/>\n      <path d=\"M 52 44.1875 \nQ 55.375 50.25 60.0625 53.125 \nQ 64.75 56 71.09375 56 \nQ 79.640625 56 84.28125 50.015625 \nQ 88.921875 44.046875 88.921875 33.015625 \nL 88.921875 0 \nL 79.890625 0 \nL 79.890625 32.71875 \nQ 79.890625 40.578125 77.09375 44.375 \nQ 74.3125 48.1875 68.609375 48.1875 \nQ 61.625 48.1875 57.5625 43.546875 \nQ 53.515625 38.921875 53.515625 30.90625 \nL 53.515625 0 \nL 44.484375 0 \nL 44.484375 32.71875 \nQ 44.484375 40.625 41.703125 44.40625 \nQ 38.921875 48.1875 33.109375 48.1875 \nQ 26.21875 48.1875 22.15625 43.53125 \nQ 18.109375 38.875 18.109375 30.90625 \nL 18.109375 0 \nL 9.078125 0 \nL 9.078125 54.6875 \nL 18.109375 54.6875 \nL 18.109375 46.1875 \nQ 21.1875 51.21875 25.484375 53.609375 \nQ 29.78125 56 35.6875 56 \nQ 41.65625 56 45.828125 52.96875 \nQ 50 49.953125 52 44.1875 \nz\n\" id=\"DejaVuSans-109\"/>\n      <path d=\"M 18.109375 8.203125 \nL 18.109375 -20.796875 \nL 9.078125 -20.796875 \nL 9.078125 54.6875 \nL 18.109375 54.6875 \nL 18.109375 46.390625 \nQ 20.953125 51.265625 25.265625 53.625 \nQ 29.59375 56 35.59375 56 \nQ 45.5625 56 51.78125 48.09375 \nQ 58.015625 40.1875 58.015625 27.296875 \nQ 58.015625 14.40625 51.78125 6.484375 \nQ 45.5625 -1.421875 35.59375 -1.421875 \nQ 29.59375 -1.421875 25.265625 0.953125 \nQ 20.953125 3.328125 18.109375 8.203125 \nz\nM 48.6875 27.296875 \nQ 48.6875 37.203125 44.609375 42.84375 \nQ 40.53125 48.484375 33.40625 48.484375 \nQ 26.265625 48.484375 22.1875 42.84375 \nQ 18.109375 37.203125 18.109375 27.296875 \nQ 18.109375 17.390625 22.1875 11.75 \nQ 26.265625 6.109375 33.40625 6.109375 \nQ 40.53125 6.109375 44.609375 11.75 \nQ 48.6875 17.390625 48.6875 27.296875 \nz\n\" id=\"DejaVuSans-112\"/>\n      <path d=\"M 59.515625 10.40625 \nL 59.515625 29.984375 \nL 43.40625 29.984375 \nL 43.40625 38.09375 \nL 69.28125 38.09375 \nL 69.28125 6.78125 \nQ 63.578125 2.734375 56.6875 0.65625 \nQ 49.8125 -1.421875 42 -1.421875 \nQ 24.90625 -1.421875 15.25 8.5625 \nQ 5.609375 18.5625 5.609375 36.375 \nQ 5.609375 54.25 15.25 64.234375 \nQ 24.90625 74.21875 42 74.21875 \nQ 49.125 74.21875 55.546875 72.453125 \nQ 61.96875 70.703125 67.390625 67.28125 \nL 67.390625 56.78125 \nQ 61.921875 61.421875 55.765625 63.765625 \nQ 49.609375 66.109375 42.828125 66.109375 \nQ 29.4375 66.109375 22.71875 58.640625 \nQ 16.015625 51.171875 16.015625 36.375 \nQ 16.015625 21.625 22.71875 14.15625 \nQ 29.4375 6.6875 42.828125 6.6875 \nQ 48.046875 6.6875 52.140625 7.59375 \nQ 56.25 8.5 59.515625 10.40625 \nz\n\" id=\"DejaVuSans-71\"/>\n      <path d=\"M 54.890625 33.015625 \nL 54.890625 0 \nL 45.90625 0 \nL 45.90625 32.71875 \nQ 45.90625 40.484375 42.875 44.328125 \nQ 39.84375 48.1875 33.796875 48.1875 \nQ 26.515625 48.1875 22.3125 43.546875 \nQ 18.109375 38.921875 18.109375 30.90625 \nL 18.109375 0 \nL 9.078125 0 \nL 9.078125 54.6875 \nL 18.109375 54.6875 \nL 18.109375 46.1875 \nQ 21.34375 51.125 25.703125 53.5625 \nQ 30.078125 56 35.796875 56 \nQ 45.21875 56 50.046875 50.171875 \nQ 54.890625 44.34375 54.890625 33.015625 \nz\n\" id=\"DejaVuSans-110\"/>\n      <path d=\"M 9.8125 72.90625 \nL 24.515625 72.90625 \nL 43.109375 23.296875 \nL 61.8125 72.90625 \nL 76.515625 72.90625 \nL 76.515625 0 \nL 66.890625 0 \nL 66.890625 64.015625 \nL 48.09375 14.015625 \nL 38.1875 14.015625 \nL 19.390625 64.015625 \nL 19.390625 0 \nL 9.8125 0 \nz\n\" id=\"DejaVuSans-77\"/>\n      <path d=\"M 45.40625 46.390625 \nL 45.40625 75.984375 \nL 54.390625 75.984375 \nL 54.390625 0 \nL 45.40625 0 \nL 45.40625 8.203125 \nQ 42.578125 3.328125 38.25 0.953125 \nQ 33.9375 -1.421875 27.875 -1.421875 \nQ 17.96875 -1.421875 11.734375 6.484375 \nQ 5.515625 14.40625 5.515625 27.296875 \nQ 5.515625 40.1875 11.734375 48.09375 \nQ 17.96875 56 27.875 56 \nQ 33.9375 56 38.25 53.625 \nQ 42.578125 51.265625 45.40625 46.390625 \nz\nM 14.796875 27.296875 \nQ 14.796875 17.390625 18.875 11.75 \nQ 22.953125 6.109375 30.078125 6.109375 \nQ 37.203125 6.109375 41.296875 11.75 \nQ 45.40625 17.390625 45.40625 27.296875 \nQ 45.40625 37.203125 41.296875 42.84375 \nQ 37.203125 48.484375 30.078125 48.484375 \nQ 22.953125 48.484375 18.875 42.84375 \nQ 14.796875 37.203125 14.796875 27.296875 \nz\n\" id=\"DejaVuSans-100\"/>\n     </defs>\n     <use xlink:href=\"#DejaVuSans-82\"/>\n     <use x=\"69.482422\" xlink:href=\"#DejaVuSans-79\"/>\n     <use x=\"148.193359\" xlink:href=\"#DejaVuSans-67\"/>\n     <use x=\"218.017578\" xlink:href=\"#DejaVuSans-32\"/>\n     <use x=\"249.804688\" xlink:href=\"#DejaVuSans-67\"/>\n     <use x=\"319.628906\" xlink:href=\"#DejaVuSans-117\"/>\n     <use x=\"383.007812\" xlink:href=\"#DejaVuSans-114\"/>\n     <use x=\"424.121094\" xlink:href=\"#DejaVuSans-118\"/>\n     <use x=\"483.300781\" xlink:href=\"#DejaVuSans-101\"/>\n     <use x=\"544.824219\" xlink:href=\"#DejaVuSans-32\"/>\n     <use x=\"576.611328\" xlink:href=\"#DejaVuSans-83\"/>\n     <use x=\"640.087891\" xlink:href=\"#DejaVuSans-105\"/>\n     <use x=\"667.871094\" xlink:href=\"#DejaVuSans-109\"/>\n     <use x=\"765.283203\" xlink:href=\"#DejaVuSans-112\"/>\n     <use x=\"828.759766\" xlink:href=\"#DejaVuSans-108\"/>\n     <use x=\"856.542969\" xlink:href=\"#DejaVuSans-101\"/>\n     <use x=\"918.066406\" xlink:href=\"#DejaVuSans-32\"/>\n     <use x=\"949.853516\" xlink:href=\"#DejaVuSans-71\"/>\n     <use x=\"1027.34375\" xlink:href=\"#DejaVuSans-97\"/>\n     <use x=\"1088.623047\" xlink:href=\"#DejaVuSans-117\"/>\n     <use x=\"1152.001953\" xlink:href=\"#DejaVuSans-115\"/>\n     <use x=\"1204.101562\" xlink:href=\"#DejaVuSans-115\"/>\n     <use x=\"1256.201172\" xlink:href=\"#DejaVuSans-105\"/>\n     <use x=\"1283.984375\" xlink:href=\"#DejaVuSans-97\"/>\n     <use x=\"1345.263672\" xlink:href=\"#DejaVuSans-110\"/>\n     <use x=\"1408.642578\" xlink:href=\"#DejaVuSans-32\"/>\n     <use x=\"1440.429688\" xlink:href=\"#DejaVuSans-77\"/>\n     <use x=\"1526.708984\" xlink:href=\"#DejaVuSans-111\"/>\n     <use x=\"1587.890625\" xlink:href=\"#DejaVuSans-100\"/>\n     <use x=\"1651.367188\" xlink:href=\"#DejaVuSans-101\"/>\n     <use x=\"1712.890625\" xlink:href=\"#DejaVuSans-108\"/>\n    </g>\n   </g>\n  </g>\n </g>\n <defs>\n  <clipPath id=\"pb8a9738f41\">\n   <rect height=\"217.44\" width=\"334.8\" x=\"43.78125\" y=\"22.318125\"/>\n  </clipPath>\n </defs>\n</svg>\n",
      "image/png": "[encoded data removed]"
     },
     "metadata": {
      "needs_background": "light"
     }
    }
   ],
   "source": [
    "plt.figure()\n",
    "steps = 1000\n",
    "plt_FPR = np.zeros(steps)\n",
    "plt_TPR = np.zeros(steps)\n",
    "for i in range(0,steps):\n",
    "    threshold = i/(steps-1)\n",
    "    TP, FN = predictSMG( X1_test, np.ones(X1_test.shape[0]), mu_SMG, sigma_SMG, threshold)\n",
    "    TN, FP = predictSMG( X0_test, np.zeros(X0_test.shape[0]), mu_SMG, sigma_SMG, threshold)\n",
    "    plt_FPR[i] = FP / (FP+TN) \n",
    "    plt_TPR[i] = 1 - FN / (FN+TP)\n",
    "plt.plot(plt_FPR,plt_TPR)\n",
    "plt.xlabel(\"False Positive Rate\") \n",
    "plt.ylabel(\"True Positive Rate\") \n",
    "plt.title(\"ROC Curve Simple Gaussian Model\")"
   ]
  }
 ]
}